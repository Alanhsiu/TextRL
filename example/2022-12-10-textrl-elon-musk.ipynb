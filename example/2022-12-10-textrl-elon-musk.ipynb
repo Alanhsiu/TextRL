{
 "cells": [
  {
   "cell_type": "markdown",
   "metadata": {
    "id": "At5gZSqIG1ah"
   },
   "source": [
    "# Controllable generation via RL to let Elon Musk speak ill of DOGE\n",
    "> How to control text generation through a sentiment classifier.\n",
    "\n"
   ]
  },
  {
   "cell_type": "code",
   "execution_count": 2,
   "metadata": {
    "id": "tgBsD1fa0hJn"
   },
   "outputs": [
    {
     "name": "stdout",
     "output_type": "stream",
     "text": [
      "Looking in indexes: https://pypi.org/simple, https://pypi.ngc.nvidia.com\n",
      "Collecting pfrl@ git+https://github.com/voidful/pfrl.git\n",
      "  Cloning https://github.com/voidful/pfrl.git to /tmp/pip-install-etf5ahhg/pfrl_665a990c7fea4e51800416de87b47844\n",
      "  Running command git clone --filter=blob:none -q https://github.com/voidful/pfrl.git /tmp/pip-install-etf5ahhg/pfrl_665a990c7fea4e51800416de87b47844\n",
      "  Resolved https://github.com/voidful/pfrl.git to commit bd679022d91902a3c88066d2646ad69b30d5684a\n",
      "  Preparing metadata (setup.py) ... \u001b[?25ldone\n",
      "\u001b[?25hRequirement already satisfied: torch>=1.3.0 in /home/b0990106x/miniconda3/envs/textrl/lib/python3.9/site-packages (from pfrl@ git+https://github.com/voidful/pfrl.git) (2.2.1)\n",
      "Requirement already satisfied: gym>=0.9.7 in /home/b0990106x/miniconda3/envs/textrl/lib/python3.9/site-packages (from pfrl@ git+https://github.com/voidful/pfrl.git) (0.26.2)\n",
      "Requirement already satisfied: numpy>=1.10.4 in /home/b0990106x/miniconda3/envs/textrl/lib/python3.9/site-packages (from pfrl@ git+https://github.com/voidful/pfrl.git) (1.20.3)\n",
      "Requirement already satisfied: pillow in /home/b0990106x/miniconda3/envs/textrl/lib/python3.9/site-packages (from pfrl@ git+https://github.com/voidful/pfrl.git) (8.4.0)\n",
      "Requirement already satisfied: filelock in /home/b0990106x/miniconda3/envs/textrl/lib/python3.9/site-packages (from pfrl@ git+https://github.com/voidful/pfrl.git) (3.13.1)\n",
      "Requirement already satisfied: cloudpickle>=1.2.0 in /home/b0990106x/miniconda3/envs/textrl/lib/python3.9/site-packages (from gym>=0.9.7->pfrl@ git+https://github.com/voidful/pfrl.git) (3.0.0)\n",
      "Requirement already satisfied: importlib-metadata>=4.8.0 in /home/b0990106x/miniconda3/envs/textrl/lib/python3.9/site-packages (from gym>=0.9.7->pfrl@ git+https://github.com/voidful/pfrl.git) (7.0.1)\n",
      "Requirement already satisfied: gym-notices>=0.0.4 in /home/b0990106x/miniconda3/envs/textrl/lib/python3.9/site-packages (from gym>=0.9.7->pfrl@ git+https://github.com/voidful/pfrl.git) (0.0.8)\n",
      "Requirement already satisfied: nvidia-cuda-cupti-cu12==12.1.105 in /home/b0990106x/miniconda3/envs/textrl/lib/python3.9/site-packages (from torch>=1.3.0->pfrl@ git+https://github.com/voidful/pfrl.git) (12.1.105)\n",
      "Requirement already satisfied: nvidia-cudnn-cu12==8.9.2.26 in /home/b0990106x/miniconda3/envs/textrl/lib/python3.9/site-packages (from torch>=1.3.0->pfrl@ git+https://github.com/voidful/pfrl.git) (8.9.2.26)\n",
      "Requirement already satisfied: nvidia-curand-cu12==10.3.2.106 in /home/b0990106x/miniconda3/envs/textrl/lib/python3.9/site-packages (from torch>=1.3.0->pfrl@ git+https://github.com/voidful/pfrl.git) (10.3.2.106)\n",
      "Requirement already satisfied: nvidia-cublas-cu12==12.1.3.1 in /home/b0990106x/miniconda3/envs/textrl/lib/python3.9/site-packages (from torch>=1.3.0->pfrl@ git+https://github.com/voidful/pfrl.git) (12.1.3.1)\n",
      "Requirement already satisfied: nvidia-cuda-runtime-cu12==12.1.105 in /home/b0990106x/miniconda3/envs/textrl/lib/python3.9/site-packages (from torch>=1.3.0->pfrl@ git+https://github.com/voidful/pfrl.git) (12.1.105)\n",
      "Requirement already satisfied: triton==2.2.0 in /home/b0990106x/miniconda3/envs/textrl/lib/python3.9/site-packages (from torch>=1.3.0->pfrl@ git+https://github.com/voidful/pfrl.git) (2.2.0)\n",
      "Requirement already satisfied: nvidia-nvtx-cu12==12.1.105 in /home/b0990106x/miniconda3/envs/textrl/lib/python3.9/site-packages (from torch>=1.3.0->pfrl@ git+https://github.com/voidful/pfrl.git) (12.1.105)\n",
      "Requirement already satisfied: networkx in /home/b0990106x/miniconda3/envs/textrl/lib/python3.9/site-packages (from torch>=1.3.0->pfrl@ git+https://github.com/voidful/pfrl.git) (3.2.1)\n",
      "Requirement already satisfied: sympy in /home/b0990106x/miniconda3/envs/textrl/lib/python3.9/site-packages (from torch>=1.3.0->pfrl@ git+https://github.com/voidful/pfrl.git) (1.12)\n",
      "Requirement already satisfied: nvidia-nccl-cu12==2.19.3 in /home/b0990106x/miniconda3/envs/textrl/lib/python3.9/site-packages (from torch>=1.3.0->pfrl@ git+https://github.com/voidful/pfrl.git) (2.19.3)\n",
      "Requirement already satisfied: nvidia-cusolver-cu12==11.4.5.107 in /home/b0990106x/miniconda3/envs/textrl/lib/python3.9/site-packages (from torch>=1.3.0->pfrl@ git+https://github.com/voidful/pfrl.git) (11.4.5.107)\n",
      "Requirement already satisfied: jinja2 in /home/b0990106x/miniconda3/envs/textrl/lib/python3.9/site-packages (from torch>=1.3.0->pfrl@ git+https://github.com/voidful/pfrl.git) (3.1.3)\n",
      "Requirement already satisfied: nvidia-cufft-cu12==11.0.2.54 in /home/b0990106x/miniconda3/envs/textrl/lib/python3.9/site-packages (from torch>=1.3.0->pfrl@ git+https://github.com/voidful/pfrl.git) (11.0.2.54)\n",
      "Requirement already satisfied: typing-extensions>=4.8.0 in /home/b0990106x/miniconda3/envs/textrl/lib/python3.9/site-packages (from torch>=1.3.0->pfrl@ git+https://github.com/voidful/pfrl.git) (4.9.0)\n",
      "Requirement already satisfied: fsspec in /home/b0990106x/miniconda3/envs/textrl/lib/python3.9/site-packages (from torch>=1.3.0->pfrl@ git+https://github.com/voidful/pfrl.git) (2023.10.0)\n",
      "Requirement already satisfied: nvidia-cuda-nvrtc-cu12==12.1.105 in /home/b0990106x/miniconda3/envs/textrl/lib/python3.9/site-packages (from torch>=1.3.0->pfrl@ git+https://github.com/voidful/pfrl.git) (12.1.105)\n",
      "Requirement already satisfied: nvidia-cusparse-cu12==12.1.0.106 in /home/b0990106x/miniconda3/envs/textrl/lib/python3.9/site-packages (from torch>=1.3.0->pfrl@ git+https://github.com/voidful/pfrl.git) (12.1.0.106)\n",
      "Requirement already satisfied: nvidia-nvjitlink-cu12 in /home/b0990106x/miniconda3/envs/textrl/lib/python3.9/site-packages (from nvidia-cusolver-cu12==11.4.5.107->torch>=1.3.0->pfrl@ git+https://github.com/voidful/pfrl.git) (12.3.101)\n",
      "Requirement already satisfied: zipp>=0.5 in /home/b0990106x/miniconda3/envs/textrl/lib/python3.9/site-packages (from importlib-metadata>=4.8.0->gym>=0.9.7->pfrl@ git+https://github.com/voidful/pfrl.git) (3.17.0)\n",
      "Requirement already satisfied: MarkupSafe>=2.0 in /home/b0990106x/miniconda3/envs/textrl/lib/python3.9/site-packages (from jinja2->torch>=1.3.0->pfrl@ git+https://github.com/voidful/pfrl.git) (2.1.5)\n",
      "Requirement already satisfied: mpmath>=0.19 in /home/b0990106x/miniconda3/envs/textrl/lib/python3.9/site-packages (from sympy->torch>=1.3.0->pfrl@ git+https://github.com/voidful/pfrl.git) (1.3.0)\n",
      "Note: you may need to restart the kernel to use updated packages.\n",
      "Looking in indexes: https://pypi.org/simple, https://pypi.ngc.nvidia.com\n",
      "Requirement already satisfied: textrl==0.2.15 in /home/b0990106x/miniconda3/envs/textrl/lib/python3.9/site-packages (0.2.15)\n",
      "Requirement already satisfied: gym in /home/b0990106x/miniconda3/envs/textrl/lib/python3.9/site-packages (from textrl==0.2.15) (0.26.2)\n",
      "Requirement already satisfied: transformers in /home/b0990106x/miniconda3/envs/textrl/lib/python3.9/site-packages (from textrl==0.2.15) (4.28.0)\n",
      "Requirement already satisfied: importlib-metadata>=4.8.0 in /home/b0990106x/miniconda3/envs/textrl/lib/python3.9/site-packages (from gym->textrl==0.2.15) (7.0.1)\n",
      "Requirement already satisfied: cloudpickle>=1.2.0 in /home/b0990106x/miniconda3/envs/textrl/lib/python3.9/site-packages (from gym->textrl==0.2.15) (3.0.0)\n",
      "Requirement already satisfied: gym-notices>=0.0.4 in /home/b0990106x/miniconda3/envs/textrl/lib/python3.9/site-packages (from gym->textrl==0.2.15) (0.0.8)\n",
      "Requirement already satisfied: numpy>=1.18.0 in /home/b0990106x/miniconda3/envs/textrl/lib/python3.9/site-packages (from gym->textrl==0.2.15) (1.20.3)\n",
      "Requirement already satisfied: pyyaml>=5.1 in /home/b0990106x/miniconda3/envs/textrl/lib/python3.9/site-packages (from transformers->textrl==0.2.15) (6.0)\n",
      "Requirement already satisfied: tqdm>=4.27 in /home/b0990106x/miniconda3/envs/textrl/lib/python3.9/site-packages (from transformers->textrl==0.2.15) (4.62.3)\n",
      "Requirement already satisfied: requests in /home/b0990106x/miniconda3/envs/textrl/lib/python3.9/site-packages (from transformers->textrl==0.2.15) (2.31.0)\n",
      "Requirement already satisfied: tokenizers!=0.11.3,<0.14,>=0.11.1 in /home/b0990106x/miniconda3/envs/textrl/lib/python3.9/site-packages (from transformers->textrl==0.2.15) (0.13.3)\n",
      "Requirement already satisfied: packaging>=20.0 in /home/b0990106x/miniconda3/envs/textrl/lib/python3.9/site-packages (from transformers->textrl==0.2.15) (23.2)\n",
      "Requirement already satisfied: regex!=2019.12.17 in /home/b0990106x/miniconda3/envs/textrl/lib/python3.9/site-packages (from transformers->textrl==0.2.15) (2023.12.25)\n",
      "Requirement already satisfied: huggingface-hub<1.0,>=0.11.0 in /home/b0990106x/miniconda3/envs/textrl/lib/python3.9/site-packages (from transformers->textrl==0.2.15) (0.20.3)\n",
      "Requirement already satisfied: filelock in /home/b0990106x/miniconda3/envs/textrl/lib/python3.9/site-packages (from transformers->textrl==0.2.15) (3.13.1)\n",
      "Requirement already satisfied: fsspec>=2023.5.0 in /home/b0990106x/miniconda3/envs/textrl/lib/python3.9/site-packages (from huggingface-hub<1.0,>=0.11.0->transformers->textrl==0.2.15) (2023.10.0)\n",
      "Requirement already satisfied: typing-extensions>=3.7.4.3 in /home/b0990106x/miniconda3/envs/textrl/lib/python3.9/site-packages (from huggingface-hub<1.0,>=0.11.0->transformers->textrl==0.2.15) (4.9.0)\n",
      "Requirement already satisfied: zipp>=0.5 in /home/b0990106x/miniconda3/envs/textrl/lib/python3.9/site-packages (from importlib-metadata>=4.8.0->gym->textrl==0.2.15) (3.17.0)\n",
      "Requirement already satisfied: certifi>=2017.4.17 in /home/b0990106x/miniconda3/envs/textrl/lib/python3.9/site-packages (from requests->transformers->textrl==0.2.15) (2024.2.2)\n",
      "Requirement already satisfied: idna<4,>=2.5 in /home/b0990106x/miniconda3/envs/textrl/lib/python3.9/site-packages (from requests->transformers->textrl==0.2.15) (3.6)\n",
      "Requirement already satisfied: urllib3<3,>=1.21.1 in /home/b0990106x/miniconda3/envs/textrl/lib/python3.9/site-packages (from requests->transformers->textrl==0.2.15) (2.2.1)\n",
      "Requirement already satisfied: charset-normalizer<4,>=2 in /home/b0990106x/miniconda3/envs/textrl/lib/python3.9/site-packages (from requests->transformers->textrl==0.2.15) (3.3.2)\n",
      "Note: you may need to restart the kernel to use updated packages.\n"
     ]
    }
   ],
   "source": [
    "%pip install pfrl@git+https://github.com/voidful/pfrl.git\n",
    "%pip install textrl==0.2.15"
   ]
  },
  {
   "cell_type": "code",
   "execution_count": 3,
   "metadata": {
    "id": "c8BT6ZwpNke-"
   },
   "outputs": [],
   "source": [
    "from textrl import TextRLEnv,TextRLActor\n",
    "from transformers import pipeline, AutoModelForTokenClassification, AutoTokenizer, AutoModelWithLMHead\n",
    "import logging\n",
    "import sys\n",
    "import pfrl\n",
    "import torch\n",
    "logging.basicConfig(level=logging.INFO, stream=sys.stdout, format='')"
   ]
  },
  {
   "cell_type": "markdown",
   "metadata": {
    "id": "Re1cxoPZ4wgf"
   },
   "source": [
    "**Using a pre-trained model, it can generate elonmusk's style tweets.**"
   ]
  },
  {
   "cell_type": "code",
   "execution_count": 4,
   "metadata": {
    "id": "f0TqcFITHHdX"
   },
   "outputs": [
    {
     "name": "stderr",
     "output_type": "stream",
     "text": [
      "/home/b0990106x/miniconda3/envs/textrl/lib/python3.9/site-packages/transformers/models/auto/modeling_auto.py:1322: FutureWarning: The class `AutoModelWithLMHead` is deprecated and will be removed in a future version. Please use `AutoModelForCausalLM` for causal language models, `AutoModelForMaskedLM` for masked language models and `AutoModelForSeq2SeqLM` for encoder-decoder models.\n",
      "  warnings.warn(\n"
     ]
    },
    {
     "data": {
      "text/plain": [
       "GPT2LMHeadModel(\n",
       "  (transformer): GPT2Model(\n",
       "    (wte): Embedding(50257, 768)\n",
       "    (wpe): Embedding(1024, 768)\n",
       "    (drop): Dropout(p=0.1, inplace=False)\n",
       "    (h): ModuleList(\n",
       "      (0-11): 12 x GPT2Block(\n",
       "        (ln_1): LayerNorm((768,), eps=1e-05, elementwise_affine=True)\n",
       "        (attn): GPT2Attention(\n",
       "          (c_attn): Conv1D()\n",
       "          (c_proj): Conv1D()\n",
       "          (attn_dropout): Dropout(p=0.1, inplace=False)\n",
       "          (resid_dropout): Dropout(p=0.1, inplace=False)\n",
       "        )\n",
       "        (ln_2): LayerNorm((768,), eps=1e-05, elementwise_affine=True)\n",
       "        (mlp): GPT2MLP(\n",
       "          (c_fc): Conv1D()\n",
       "          (c_proj): Conv1D()\n",
       "          (act): NewGELUActivation()\n",
       "          (dropout): Dropout(p=0.1, inplace=False)\n",
       "        )\n",
       "      )\n",
       "    )\n",
       "    (ln_f): LayerNorm((768,), eps=1e-05, elementwise_affine=True)\n",
       "  )\n",
       "  (lm_head): Linear(in_features=768, out_features=50257, bias=False)\n",
       ")"
      ]
     },
     "execution_count": 4,
     "metadata": {},
     "output_type": "execute_result"
    }
   ],
   "source": [
    "from transformers import AutoTokenizer\n",
    "\n",
    "tokenizer = AutoTokenizer.from_pretrained(\"huggingtweets/elonmusk\")  \n",
    "model = AutoModelWithLMHead.from_pretrained(\"huggingtweets/elonmusk\")\n",
    "model.eval()\n",
    "model.cuda()"
   ]
  },
  {
   "cell_type": "markdown",
   "metadata": {
    "id": "342ChdlM5CXv"
   },
   "source": [
    "**a sentiment classifier for rl reward**"
   ]
  },
  {
   "cell_type": "code",
   "execution_count": 5,
   "metadata": {
    "colab": {
     "base_uri": "https://localhost:8080/"
    },
    "id": "UYRgFPW_HrJo",
    "outputId": "a78366c1-d0ba-4220-97f2-d3fc0577a99a",
    "pycharm": {
     "is_executing": true
    }
   },
   "outputs": [
    {
     "name": "stderr",
     "output_type": "stream",
     "text": [
      "/home/b0990106x/miniconda3/envs/textrl/lib/python3.9/site-packages/transformers/pipelines/text_classification.py:104: UserWarning: `return_all_scores` is now deprecated,  if want a similar funcionality use `top_k=None` instead of `return_all_scores=True` or `top_k=1` instead of `return_all_scores=False`.\n",
      "  warnings.warn(\n"
     ]
    }
   ],
   "source": [
    "sentiment = pipeline('sentiment-analysis',model=\"cardiffnlp/twitter-roberta-base-sentiment\",tokenizer=\"cardiffnlp/twitter-roberta-base-sentiment\",device=0,return_all_scores=True)"
   ]
  },
  {
   "cell_type": "code",
   "execution_count": 6,
   "metadata": {
    "id": "o47CRT8TKqvn"
   },
   "outputs": [],
   "source": [
    "transformers_logger = logging.getLogger('transformers')\n",
    "transformers_logger.setLevel(logging.CRITICAL)"
   ]
  },
  {
   "cell_type": "code",
   "execution_count": 7,
   "metadata": {
    "colab": {
     "base_uri": "https://localhost:8080/"
    },
    "id": "GgFrS5gQIAxR",
    "outputId": "5336889f-b05b-415e-d368-e4d953a5591e"
   },
   "outputs": [
    {
     "data": {
      "text/plain": [
       "[[{'label': 'LABEL_0', 'score': 0.9338533878326416},\n",
       "  {'label': 'LABEL_1', 'score': 0.0601188987493515},\n",
       "  {'label': 'LABEL_2', 'score': 0.006027725990861654}]]"
      ]
     },
     "execution_count": 7,
     "metadata": {},
     "output_type": "execute_result"
    }
   ],
   "source": [
    "sentiment(\"dogecoin is bad\")"
   ]
  },
  {
   "cell_type": "code",
   "execution_count": 8,
   "metadata": {
    "colab": {
     "base_uri": "https://localhost:8080/"
    },
    "id": "GhVcFdwjJzjW",
    "outputId": "c397a19c-c53c-4013-e45b-069b65eaf615"
   },
   "outputs": [
    {
     "data": {
      "text/plain": [
       "0.9338533878326416"
      ]
     },
     "execution_count": 8,
     "metadata": {},
     "output_type": "execute_result"
    }
   ],
   "source": [
    "sentiment(\"dogecoin is bad\")[0][0]['score']"
   ]
  },
  {
   "cell_type": "markdown",
   "metadata": {
    "id": "SfjPrvcK5N5e"
   },
   "source": [
    "set our text generation reward, inverse perplexity + sentiment classifier.\n",
    "- inverse perplexity make sure the generated sentence probability will be high.\n",
    "- sentiment classifier can make the generate more negative."
   ]
  },
  {
   "cell_type": "code",
   "execution_count": 9,
   "metadata": {
    "id": "OgNGUk99HMtT"
   },
   "outputs": [],
   "source": [
    "class MyRLEnv(TextRLEnv):\n",
    "    def get_reward(self, input_item, predicted_list, finish): # predicted will be the list of predicted token\n",
    "      reward = 0\n",
    "      if finish or len(predicted_list) >= self.env_max_length:\n",
    "        predicted_text = tokenizer.convert_tokens_to_string(predicted_list[0])\n",
    "        # sentiment classifier\n",
    "        reward = sentiment(input_item[0]+predicted_text)[0][0]['score'] * 10\n",
    "      return reward\n",
    "     "
   ]
  },
  {
   "cell_type": "markdown",
   "metadata": {
    "id": "jqF7mNCY5tdO"
   },
   "source": [
    "**fit one example**"
   ]
  },
  {
   "cell_type": "code",
   "execution_count": 10,
   "metadata": {
    "id": "cy4tCfslKGd4"
   },
   "outputs": [],
   "source": [
    "observaton_list = [{'input':'i think dogecoin is'}]"
   ]
  },
  {
   "cell_type": "code",
   "execution_count": 11,
   "metadata": {
    "id": "wtGfk03eHOv_"
   },
   "outputs": [],
   "source": [
    "env = MyRLEnv(model, tokenizer, observation_input=observaton_list,compare_sample=1)\n",
    "actor = TextRLActor(env,model,tokenizer)\n",
    "agent = actor.agent_ppo(update_interval=100, minibatch_size=3, epochs=10)"
   ]
  },
  {
   "cell_type": "code",
   "execution_count": 12,
   "metadata": {
    "colab": {
     "base_uri": "https://localhost:8080/"
    },
    "id": "_sBBy1yjIdtP",
    "outputId": "62125633-6c76-47eb-c207-ebf33a99e78e"
   },
   "outputs": [
    {
     "ename": "KeyError",
     "evalue": "0",
     "output_type": "error",
     "traceback": [
      "\u001b[0;31m---------------------------------------------------------------------------\u001b[0m",
      "\u001b[0;31mKeyError\u001b[0m                                  Traceback (most recent call last)",
      "\u001b[0;32m<ipython-input-12-5e0241fb90cf>\u001b[0m in \u001b[0;36m<module>\u001b[0;34m\u001b[0m\n\u001b[0;32m----> 1\u001b[0;31m \u001b[0mactor\u001b[0m\u001b[0;34m.\u001b[0m\u001b[0mpredict\u001b[0m\u001b[0;34m(\u001b[0m\u001b[0mobservaton_list\u001b[0m\u001b[0;34m[\u001b[0m\u001b[0;36m0\u001b[0m\u001b[0;34m]\u001b[0m\u001b[0;34m)\u001b[0m\u001b[0;34m\u001b[0m\u001b[0;34m\u001b[0m\u001b[0m\n\u001b[0m",
      "\u001b[0;32m~/miniconda3/envs/textrl/lib/python3.9/site-packages/torch/amp/autocast_mode.py\u001b[0m in \u001b[0;36mdecorate_autocast\u001b[0;34m(*args, **kwargs)\u001b[0m\n\u001b[1;32m     14\u001b[0m     \u001b[0;32mdef\u001b[0m \u001b[0mdecorate_autocast\u001b[0m\u001b[0;34m(\u001b[0m\u001b[0;34m*\u001b[0m\u001b[0margs\u001b[0m\u001b[0;34m,\u001b[0m \u001b[0;34m**\u001b[0m\u001b[0mkwargs\u001b[0m\u001b[0;34m)\u001b[0m\u001b[0;34m:\u001b[0m\u001b[0;34m\u001b[0m\u001b[0;34m\u001b[0m\u001b[0m\n\u001b[1;32m     15\u001b[0m         \u001b[0;32mwith\u001b[0m \u001b[0mautocast_instance\u001b[0m\u001b[0;34m:\u001b[0m\u001b[0;34m\u001b[0m\u001b[0;34m\u001b[0m\u001b[0m\n\u001b[0;32m---> 16\u001b[0;31m             \u001b[0;32mreturn\u001b[0m \u001b[0mfunc\u001b[0m\u001b[0;34m(\u001b[0m\u001b[0;34m*\u001b[0m\u001b[0margs\u001b[0m\u001b[0;34m,\u001b[0m \u001b[0;34m**\u001b[0m\u001b[0mkwargs\u001b[0m\u001b[0;34m)\u001b[0m\u001b[0;34m\u001b[0m\u001b[0;34m\u001b[0m\u001b[0m\n\u001b[0m\u001b[1;32m     17\u001b[0m \u001b[0;34m\u001b[0m\u001b[0m\n\u001b[1;32m     18\u001b[0m     \u001b[0mdecorate_autocast\u001b[0m\u001b[0;34m.\u001b[0m\u001b[0m__script_unsupported\u001b[0m \u001b[0;34m=\u001b[0m \u001b[0;34m\"@autocast() decorator is not supported in script mode\"\u001b[0m  \u001b[0;31m# type: ignore[attr-defined]\u001b[0m\u001b[0;34m\u001b[0m\u001b[0;34m\u001b[0m\u001b[0m\n",
      "\u001b[0;32m~/miniconda3/envs/textrl/lib/python3.9/site-packages/textrl/actor.py\u001b[0m in \u001b[0;36mpredict\u001b[0;34m(self, input_item)\u001b[0m\n\u001b[1;32m    116\u001b[0m                 \u001b[0;32mwhile\u001b[0m \u001b[0;32mTrue\u001b[0m\u001b[0;34m:\u001b[0m\u001b[0;34m\u001b[0m\u001b[0;34m\u001b[0m\u001b[0m\n\u001b[1;32m    117\u001b[0m                     \u001b[0maction\u001b[0m \u001b[0;34m=\u001b[0m \u001b[0mself\u001b[0m\u001b[0;34m.\u001b[0m\u001b[0magent\u001b[0m\u001b[0;34m.\u001b[0m\u001b[0mact\u001b[0m\u001b[0;34m(\u001b[0m\u001b[0mobs\u001b[0m\u001b[0;34m)\u001b[0m\u001b[0;34m\u001b[0m\u001b[0;34m\u001b[0m\u001b[0m\n\u001b[0;32m--> 118\u001b[0;31m                     \u001b[0mobs\u001b[0m\u001b[0;34m,\u001b[0m \u001b[0mreward\u001b[0m\u001b[0;34m,\u001b[0m \u001b[0mdone\u001b[0m\u001b[0;34m,\u001b[0m \u001b[0mpred\u001b[0m \u001b[0;34m=\u001b[0m \u001b[0mself\u001b[0m\u001b[0;34m.\u001b[0m\u001b[0menv\u001b[0m\u001b[0;34m.\u001b[0m\u001b[0mstep\u001b[0m\u001b[0;34m(\u001b[0m\u001b[0maction\u001b[0m\u001b[0;34m)\u001b[0m\u001b[0;34m\u001b[0m\u001b[0;34m\u001b[0m\u001b[0m\n\u001b[0m\u001b[1;32m    119\u001b[0m                     \u001b[0mt\u001b[0m \u001b[0;34m+=\u001b[0m \u001b[0;36m1\u001b[0m\u001b[0;34m\u001b[0m\u001b[0;34m\u001b[0m\u001b[0m\n\u001b[1;32m    120\u001b[0m                     \u001b[0mreset\u001b[0m \u001b[0;34m=\u001b[0m \u001b[0mt\u001b[0m \u001b[0;34m>=\u001b[0m \u001b[0mself\u001b[0m\u001b[0;34m.\u001b[0m\u001b[0menv\u001b[0m\u001b[0;34m.\u001b[0m\u001b[0menv_max_length\u001b[0m\u001b[0;34m\u001b[0m\u001b[0;34m\u001b[0m\u001b[0m\n",
      "\u001b[0;32m~/miniconda3/envs/textrl/lib/python3.9/site-packages/textrl/environment.py\u001b[0m in \u001b[0;36mstep\u001b[0;34m(self, action)\u001b[0m\n\u001b[1;32m     37\u001b[0m     \u001b[0;32mdef\u001b[0m \u001b[0mstep\u001b[0m\u001b[0;34m(\u001b[0m\u001b[0mself\u001b[0m\u001b[0;34m,\u001b[0m \u001b[0maction\u001b[0m\u001b[0;34m)\u001b[0m\u001b[0;34m:\u001b[0m\u001b[0;34m\u001b[0m\u001b[0;34m\u001b[0m\u001b[0m\n\u001b[1;32m     38\u001b[0m         \u001b[0mpredicted\u001b[0m\u001b[0;34m,\u001b[0m \u001b[0mfinish\u001b[0m\u001b[0;34m,\u001b[0m \u001b[0mpredicted_str\u001b[0m \u001b[0;34m=\u001b[0m \u001b[0mself\u001b[0m\u001b[0;34m.\u001b[0m\u001b[0m_predict\u001b[0m\u001b[0;34m(\u001b[0m\u001b[0mvocab_id\u001b[0m\u001b[0;34m=\u001b[0m\u001b[0maction\u001b[0m\u001b[0;34m)\u001b[0m\u001b[0;34m\u001b[0m\u001b[0;34m\u001b[0m\u001b[0m\n\u001b[0;32m---> 39\u001b[0;31m         \u001b[0mreward\u001b[0m \u001b[0;34m=\u001b[0m \u001b[0mself\u001b[0m\u001b[0;34m.\u001b[0m\u001b[0mget_reward\u001b[0m\u001b[0;34m(\u001b[0m\u001b[0mself\u001b[0m\u001b[0;34m.\u001b[0m\u001b[0minput_item\u001b[0m\u001b[0;34m,\u001b[0m \u001b[0mpredicted\u001b[0m\u001b[0;34m,\u001b[0m \u001b[0mfinish\u001b[0m\u001b[0;34m)\u001b[0m\u001b[0;34m\u001b[0m\u001b[0;34m\u001b[0m\u001b[0m\n\u001b[0m\u001b[1;32m     40\u001b[0m         \u001b[0mself\u001b[0m\u001b[0;34m.\u001b[0m\u001b[0mpredicted\u001b[0m \u001b[0;34m=\u001b[0m \u001b[0mpredicted\u001b[0m\u001b[0;34m\u001b[0m\u001b[0;34m\u001b[0m\u001b[0m\n\u001b[1;32m     41\u001b[0m         \u001b[0;32mreturn\u001b[0m \u001b[0mself\u001b[0m\u001b[0;34m.\u001b[0m\u001b[0m_get_obs\u001b[0m\u001b[0;34m(\u001b[0m\u001b[0mpredicted\u001b[0m\u001b[0;34m)\u001b[0m\u001b[0;34m,\u001b[0m \u001b[0mreward\u001b[0m\u001b[0;34m,\u001b[0m \u001b[0mfinish\u001b[0m\u001b[0;34m,\u001b[0m \u001b[0;34m{\u001b[0m\u001b[0;34m\"predicted_str\"\u001b[0m\u001b[0;34m:\u001b[0m \u001b[0mpredicted_str\u001b[0m\u001b[0;34m}\u001b[0m\u001b[0;34m\u001b[0m\u001b[0;34m\u001b[0m\u001b[0m\n",
      "\u001b[0;32m<ipython-input-9-8a14e93cceb6>\u001b[0m in \u001b[0;36mget_reward\u001b[0;34m(self, input_item, predicted_list, finish)\u001b[0m\n\u001b[1;32m      5\u001b[0m         \u001b[0mpredicted_text\u001b[0m \u001b[0;34m=\u001b[0m \u001b[0mtokenizer\u001b[0m\u001b[0;34m.\u001b[0m\u001b[0mconvert_tokens_to_string\u001b[0m\u001b[0;34m(\u001b[0m\u001b[0mpredicted_list\u001b[0m\u001b[0;34m[\u001b[0m\u001b[0;36m0\u001b[0m\u001b[0;34m]\u001b[0m\u001b[0;34m)\u001b[0m\u001b[0;34m\u001b[0m\u001b[0;34m\u001b[0m\u001b[0m\n\u001b[1;32m      6\u001b[0m         \u001b[0;31m# sentiment classifier\u001b[0m\u001b[0;34m\u001b[0m\u001b[0;34m\u001b[0m\u001b[0m\n\u001b[0;32m----> 7\u001b[0;31m         \u001b[0mreward\u001b[0m \u001b[0;34m=\u001b[0m \u001b[0msentiment\u001b[0m\u001b[0;34m(\u001b[0m\u001b[0minput_item\u001b[0m\u001b[0;34m[\u001b[0m\u001b[0;36m0\u001b[0m\u001b[0;34m]\u001b[0m\u001b[0;34m+\u001b[0m\u001b[0mpredicted_text\u001b[0m\u001b[0;34m)\u001b[0m\u001b[0;34m[\u001b[0m\u001b[0;36m0\u001b[0m\u001b[0;34m]\u001b[0m\u001b[0;34m[\u001b[0m\u001b[0;36m0\u001b[0m\u001b[0;34m]\u001b[0m\u001b[0;34m[\u001b[0m\u001b[0;34m'score'\u001b[0m\u001b[0;34m]\u001b[0m \u001b[0;34m*\u001b[0m \u001b[0;36m10\u001b[0m\u001b[0;34m\u001b[0m\u001b[0;34m\u001b[0m\u001b[0m\n\u001b[0m\u001b[1;32m      8\u001b[0m       \u001b[0;32mreturn\u001b[0m \u001b[0mreward\u001b[0m\u001b[0;34m\u001b[0m\u001b[0;34m\u001b[0m\u001b[0m\n\u001b[1;32m      9\u001b[0m \u001b[0;34m\u001b[0m\u001b[0m\n",
      "\u001b[0;31mKeyError\u001b[0m: 0"
     ]
    }
   ],
   "source": [
    "actor.predict(observaton_list[0])"
   ]
  },
  {
   "cell_type": "code",
   "execution_count": null,
   "metadata": {
    "colab": {
     "base_uri": "https://localhost:8080/"
    },
    "id": "FBysk9MiHR2D",
    "outputId": "4086dcd7-6d19-44bc-e1b0-fa764f873301",
    "pycharm": {
     "is_executing": true
    }
   },
   "outputs": [],
   "source": [
    "pfrl.experiments.train_agent_with_evaluation(\n",
    "    agent,\n",
    "    env,\n",
    "    steps=300,\n",
    "    eval_n_steps=None,\n",
    "    eval_n_episodes=1,       \n",
    "    train_max_episode_len=100,  \n",
    "    eval_interval=10,\n",
    "    outdir='elon_musk_dogecoin', \n",
    ")"
   ]
  },
  {
   "cell_type": "markdown",
   "metadata": {
    "id": "9B7rMPRU5zsM"
   },
   "source": [
    "loading the best result and predict."
   ]
  },
  {
   "cell_type": "markdown",
   "metadata": {},
   "source": []
  },
  {
   "cell_type": "code",
   "execution_count": null,
   "metadata": {
    "id": "FrkYGPjYTIcS"
   },
   "outputs": [],
   "source": [
    "agent.load(\"./elon_musk_dogecoin/best\")"
   ]
  },
  {
   "cell_type": "code",
   "execution_count": null,
   "metadata": {
    "colab": {
     "base_uri": "https://localhost:8080/"
    },
    "id": "dpAwe42ES-5w",
    "outputId": "bb12c0d2-1916-4076-8f98-b20d2a2e4e57"
   },
   "outputs": [],
   "source": [
    "actor.predict(observaton_list[0])"
   ]
  }
 ],
 "metadata": {
  "accelerator": "GPU",
  "colab": {
   "provenance": []
  },
  "kernelspec": {
   "display_name": "Python 3 (ipykernel)",
   "language": "python",
   "name": "python3"
  },
  "language_info": {
   "codemirror_mode": {
    "name": "ipython",
    "version": 3
   },
   "file_extension": ".py",
   "mimetype": "text/x-python",
   "name": "python",
   "nbconvert_exporter": "python",
   "pygments_lexer": "ipython3",
   "version": "3.9.9"
  },
  "vscode": {
   "interpreter": {
    "hash": "2c6c77b12b02a1c2aaa91a9fb9cc35bb3c4bbfb7b716f83ac7b2b57ffb1247cc"
   }
  }
 },
 "nbformat": 4,
 "nbformat_minor": 1
}
