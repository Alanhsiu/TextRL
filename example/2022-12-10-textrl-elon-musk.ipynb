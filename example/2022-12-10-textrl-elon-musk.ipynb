{
 "cells": [
  {
   "cell_type": "markdown",
   "metadata": {
    "id": "At5gZSqIG1ah"
   },
   "source": [
    "# Controllable generation via RL to let Elon Musk speak ill of DOGE\n",
    "> How to control text generation through a sentiment classifier.\n",
    "\n"
   ]
  },
  {
   "cell_type": "code",
   "execution_count": 2,
   "metadata": {
    "id": "tgBsD1fa0hJn"
   },
   "outputs": [
    {
     "name": "stdout",
     "output_type": "stream",
     "text": [
      "Looking in indexes: https://pypi.org/simple, https://pypi.ngc.nvidia.com\n",
      "Collecting pfrl@ git+https://github.com/voidful/pfrl.git\n",
      "  Cloning https://github.com/voidful/pfrl.git to /tmp/pip-install-nj1zomza/pfrl_f7e4fbd93db541b88eaf53a4980693dd\n",
      "  Running command git clone --filter=blob:none --quiet https://github.com/voidful/pfrl.git /tmp/pip-install-nj1zomza/pfrl_f7e4fbd93db541b88eaf53a4980693dd\n",
      "  Resolved https://github.com/voidful/pfrl.git to commit bd679022d91902a3c88066d2646ad69b30d5684a\n",
      "  Preparing metadata (setup.py) ... \u001b[?25ldone\n",
      "\u001b[?25hRequirement already satisfied: torch>=1.3.0 in /home/u9655801/miniconda3/lib/python3.11/site-packages (from pfrl@ git+https://github.com/voidful/pfrl.git) (2.1.1)\n",
      "Requirement already satisfied: gym>=0.9.7 in /home/u9655801/miniconda3/lib/python3.11/site-packages (from pfrl@ git+https://github.com/voidful/pfrl.git) (0.26.2)\n",
      "Requirement already satisfied: numpy>=1.10.4 in /home/u9655801/.local/lib/python3.11/site-packages (from pfrl@ git+https://github.com/voidful/pfrl.git) (1.25.2)\n",
      "Requirement already satisfied: pillow in /home/u9655801/miniconda3/lib/python3.11/site-packages (from pfrl@ git+https://github.com/voidful/pfrl.git) (10.2.0)\n",
      "Requirement already satisfied: filelock in /home/u9655801/miniconda3/lib/python3.11/site-packages (from pfrl@ git+https://github.com/voidful/pfrl.git) (3.12.4)\n",
      "Requirement already satisfied: cloudpickle>=1.2.0 in /home/u9655801/miniconda3/lib/python3.11/site-packages (from gym>=0.9.7->pfrl@ git+https://github.com/voidful/pfrl.git) (3.0.0)\n",
      "Requirement already satisfied: gym-notices>=0.0.4 in /home/u9655801/miniconda3/lib/python3.11/site-packages (from gym>=0.9.7->pfrl@ git+https://github.com/voidful/pfrl.git) (0.0.8)\n",
      "Requirement already satisfied: typing-extensions in /home/u9655801/miniconda3/lib/python3.11/site-packages (from torch>=1.3.0->pfrl@ git+https://github.com/voidful/pfrl.git) (4.8.0)\n",
      "Requirement already satisfied: sympy in /home/u9655801/miniconda3/lib/python3.11/site-packages (from torch>=1.3.0->pfrl@ git+https://github.com/voidful/pfrl.git) (1.12)\n",
      "Requirement already satisfied: networkx in /home/u9655801/miniconda3/lib/python3.11/site-packages (from torch>=1.3.0->pfrl@ git+https://github.com/voidful/pfrl.git) (3.2.1)\n",
      "Requirement already satisfied: jinja2 in /home/u9655801/miniconda3/lib/python3.11/site-packages (from torch>=1.3.0->pfrl@ git+https://github.com/voidful/pfrl.git) (3.1.2)\n",
      "Requirement already satisfied: fsspec in /home/u9655801/.local/lib/python3.11/site-packages (from torch>=1.3.0->pfrl@ git+https://github.com/voidful/pfrl.git) (2023.10.0)\n",
      "Requirement already satisfied: nvidia-cuda-nvrtc-cu12==12.1.105 in /home/u9655801/miniconda3/lib/python3.11/site-packages (from torch>=1.3.0->pfrl@ git+https://github.com/voidful/pfrl.git) (12.1.105)\n",
      "Requirement already satisfied: nvidia-cuda-runtime-cu12==12.1.105 in /home/u9655801/miniconda3/lib/python3.11/site-packages (from torch>=1.3.0->pfrl@ git+https://github.com/voidful/pfrl.git) (12.1.105)\n",
      "Requirement already satisfied: nvidia-cuda-cupti-cu12==12.1.105 in /home/u9655801/miniconda3/lib/python3.11/site-packages (from torch>=1.3.0->pfrl@ git+https://github.com/voidful/pfrl.git) (12.1.105)\n",
      "Requirement already satisfied: nvidia-cudnn-cu12==8.9.2.26 in /home/u9655801/miniconda3/lib/python3.11/site-packages (from torch>=1.3.0->pfrl@ git+https://github.com/voidful/pfrl.git) (8.9.2.26)\n",
      "Requirement already satisfied: nvidia-cublas-cu12==12.1.3.1 in /home/u9655801/miniconda3/lib/python3.11/site-packages (from torch>=1.3.0->pfrl@ git+https://github.com/voidful/pfrl.git) (12.1.3.1)\n",
      "Requirement already satisfied: nvidia-cufft-cu12==11.0.2.54 in /home/u9655801/miniconda3/lib/python3.11/site-packages (from torch>=1.3.0->pfrl@ git+https://github.com/voidful/pfrl.git) (11.0.2.54)\n",
      "Requirement already satisfied: nvidia-curand-cu12==10.3.2.106 in /home/u9655801/miniconda3/lib/python3.11/site-packages (from torch>=1.3.0->pfrl@ git+https://github.com/voidful/pfrl.git) (10.3.2.106)\n",
      "Requirement already satisfied: nvidia-cusolver-cu12==11.4.5.107 in /home/u9655801/miniconda3/lib/python3.11/site-packages (from torch>=1.3.0->pfrl@ git+https://github.com/voidful/pfrl.git) (11.4.5.107)\n",
      "Requirement already satisfied: nvidia-cusparse-cu12==12.1.0.106 in /home/u9655801/miniconda3/lib/python3.11/site-packages (from torch>=1.3.0->pfrl@ git+https://github.com/voidful/pfrl.git) (12.1.0.106)\n",
      "Requirement already satisfied: nvidia-nccl-cu12==2.18.1 in /home/u9655801/miniconda3/lib/python3.11/site-packages (from torch>=1.3.0->pfrl@ git+https://github.com/voidful/pfrl.git) (2.18.1)\n",
      "Requirement already satisfied: nvidia-nvtx-cu12==12.1.105 in /home/u9655801/miniconda3/lib/python3.11/site-packages (from torch>=1.3.0->pfrl@ git+https://github.com/voidful/pfrl.git) (12.1.105)\n",
      "Requirement already satisfied: triton==2.1.0 in /home/u9655801/miniconda3/lib/python3.11/site-packages (from torch>=1.3.0->pfrl@ git+https://github.com/voidful/pfrl.git) (2.1.0)\n",
      "Requirement already satisfied: nvidia-nvjitlink-cu12 in /home/u9655801/miniconda3/lib/python3.11/site-packages (from nvidia-cusolver-cu12==11.4.5.107->torch>=1.3.0->pfrl@ git+https://github.com/voidful/pfrl.git) (12.3.101)\n",
      "Requirement already satisfied: MarkupSafe>=2.0 in /home/u9655801/miniconda3/lib/python3.11/site-packages (from jinja2->torch>=1.3.0->pfrl@ git+https://github.com/voidful/pfrl.git) (2.1.3)\n",
      "Requirement already satisfied: mpmath>=0.19 in /home/u9655801/miniconda3/lib/python3.11/site-packages (from sympy->torch>=1.3.0->pfrl@ git+https://github.com/voidful/pfrl.git) (1.3.0)\n",
      "Looking in indexes: https://pypi.org/simple, https://pypi.ngc.nvidia.com\n",
      "Requirement already satisfied: textrl==0.2.15 in /home/u9655801/miniconda3/lib/python3.11/site-packages (0.2.15)\n",
      "Requirement already satisfied: gym in /home/u9655801/miniconda3/lib/python3.11/site-packages (from textrl==0.2.15) (0.26.2)\n",
      "Requirement already satisfied: transformers in /home/u9655801/miniconda3/lib/python3.11/site-packages (from textrl==0.2.15) (4.34.1)\n",
      "Requirement already satisfied: numpy>=1.18.0 in /home/u9655801/.local/lib/python3.11/site-packages (from gym->textrl==0.2.15) (1.25.2)\n",
      "Requirement already satisfied: cloudpickle>=1.2.0 in /home/u9655801/miniconda3/lib/python3.11/site-packages (from gym->textrl==0.2.15) (3.0.0)\n",
      "Requirement already satisfied: gym-notices>=0.0.4 in /home/u9655801/miniconda3/lib/python3.11/site-packages (from gym->textrl==0.2.15) (0.0.8)\n",
      "Requirement already satisfied: filelock in /home/u9655801/miniconda3/lib/python3.11/site-packages (from transformers->textrl==0.2.15) (3.12.4)\n",
      "Requirement already satisfied: huggingface-hub<1.0,>=0.16.4 in /home/u9655801/miniconda3/lib/python3.11/site-packages (from transformers->textrl==0.2.15) (0.17.3)\n",
      "Requirement already satisfied: packaging>=20.0 in /home/u9655801/.local/lib/python3.11/site-packages (from transformers->textrl==0.2.15) (23.2)\n",
      "Requirement already satisfied: pyyaml>=5.1 in /home/u9655801/miniconda3/lib/python3.11/site-packages (from transformers->textrl==0.2.15) (6.0.1)\n",
      "Requirement already satisfied: regex!=2019.12.17 in /home/u9655801/.local/lib/python3.11/site-packages (from transformers->textrl==0.2.15) (2023.10.3)\n",
      "Requirement already satisfied: requests in /home/u9655801/miniconda3/lib/python3.11/site-packages (from transformers->textrl==0.2.15) (2.29.0)\n",
      "Requirement already satisfied: tokenizers<0.15,>=0.14 in /home/u9655801/miniconda3/lib/python3.11/site-packages (from transformers->textrl==0.2.15) (0.14.1)\n",
      "Requirement already satisfied: safetensors>=0.3.1 in /home/u9655801/miniconda3/lib/python3.11/site-packages (from transformers->textrl==0.2.15) (0.4.0)\n",
      "Requirement already satisfied: tqdm>=4.27 in /home/u9655801/.local/lib/python3.11/site-packages (from transformers->textrl==0.2.15) (4.66.1)\n",
      "Requirement already satisfied: fsspec in /home/u9655801/.local/lib/python3.11/site-packages (from huggingface-hub<1.0,>=0.16.4->transformers->textrl==0.2.15) (2023.10.0)\n",
      "Requirement already satisfied: typing-extensions>=3.7.4.3 in /home/u9655801/miniconda3/lib/python3.11/site-packages (from huggingface-hub<1.0,>=0.16.4->transformers->textrl==0.2.15) (4.8.0)\n",
      "Requirement already satisfied: charset-normalizer<4,>=2 in /home/u9655801/miniconda3/lib/python3.11/site-packages (from requests->transformers->textrl==0.2.15) (2.0.4)\n",
      "Requirement already satisfied: idna<4,>=2.5 in /home/u9655801/miniconda3/lib/python3.11/site-packages (from requests->transformers->textrl==0.2.15) (3.4)\n"
     ]
    },
    {
     "name": "stdout",
     "output_type": "stream",
     "text": [
      "Requirement already satisfied: urllib3<1.27,>=1.21.1 in /home/u9655801/miniconda3/lib/python3.11/site-packages (from requests->transformers->textrl==0.2.15) (1.26.16)\r\n",
      "Requirement already satisfied: certifi>=2017.4.17 in /home/u9655801/miniconda3/lib/python3.11/site-packages (from requests->transformers->textrl==0.2.15) (2023.5.7)\r\n"
     ]
    }
   ],
   "source": [
    "!pip install pfrl@git+https://github.com/voidful/pfrl.git\n",
    "!pip install textrl==0.2.15"
   ]
  },
  {
   "cell_type": "code",
   "execution_count": 1,
   "metadata": {
    "id": "c8BT6ZwpNke-"
   },
   "outputs": [
    {
     "ename": "ModuleNotFoundError",
     "evalue": "No module named 'textrl'",
     "output_type": "error",
     "traceback": [
      "\u001b[0;31m---------------------------------------------------------------------------\u001b[0m",
      "\u001b[0;31mModuleNotFoundError\u001b[0m                       Traceback (most recent call last)",
      "Cell \u001b[0;32mIn[1], line 1\u001b[0m\n\u001b[0;32m----> 1\u001b[0m \u001b[38;5;28;01mfrom\u001b[39;00m \u001b[38;5;21;01mtextrl\u001b[39;00m \u001b[38;5;28;01mimport\u001b[39;00m TextRLEnv,TextRLActor\n\u001b[1;32m      2\u001b[0m \u001b[38;5;28;01mfrom\u001b[39;00m \u001b[38;5;21;01mtransformers\u001b[39;00m \u001b[38;5;28;01mimport\u001b[39;00m pipeline, AutoModelForTokenClassification, AutoTokenizer, AutoModelWithLMHead\n\u001b[1;32m      3\u001b[0m \u001b[38;5;28;01mimport\u001b[39;00m \u001b[38;5;21;01mlogging\u001b[39;00m\n",
      "\u001b[0;31mModuleNotFoundError\u001b[0m: No module named 'textrl'"
     ]
    }
   ],
   "source": [
    "from textrl import TextRLEnv,TextRLActor\n",
    "from transformers import pipeline, AutoModelForTokenClassification, AutoTokenizer, AutoModelWithLMHead\n",
    "import logging\n",
    "import sys\n",
    "import pfrl\n",
    "import torch\n",
    "logging.basicConfig(level=logging.INFO, stream=sys.stdout, format='')"
   ]
  },
  {
   "cell_type": "markdown",
   "metadata": {
    "id": "Re1cxoPZ4wgf"
   },
   "source": [
    "**Using a pre-trained model, it can generate elonmusk's style tweets.**"
   ]
  },
  {
   "cell_type": "code",
   "execution_count": 11,
   "metadata": {
    "id": "f0TqcFITHHdX"
   },
   "outputs": [
    {
     "name": "stderr",
     "output_type": "stream",
     "text": [
      "tokenizer_config.json: 100%|██████████| 349/349 [00:00<00:00, 1.24MB/s]\n",
      "vocab.json: 100%|██████████| 798k/798k [00:00<00:00, 1.00MB/s]\n",
      "merges.txt: 100%|██████████| 456k/456k [00:00<00:00, 767kB/s]\n",
      "tokenizer.json: 100%|██████████| 3.82M/3.82M [00:01<00:00, 3.20MB/s]\n",
      "added_tokens.json: 100%|██████████| 211k/211k [00:00<00:00, 530kB/s]\n",
      "special_tokens_map.json: 100%|██████████| 280/280 [00:00<00:00, 2.21MB/s]\n",
      "config.json: 100%|██████████| 1.75k/1.75k [00:00<00:00, 5.80MB/s]\n",
      "pytorch_model.bin: 100%|██████████| 586M/586M [00:31<00:00, 18.4MB/s] \n"
     ]
    },
    {
     "data": {
      "text/plain": [
       "BartForConditionalGeneration(\n",
       "  (model): BartModel(\n",
       "    (shared): Embedding(59481, 768, padding_idx=1)\n",
       "    (encoder): BartEncoder(\n",
       "      (embed_tokens): Embedding(59481, 768, padding_idx=1)\n",
       "      (embed_positions): BartLearnedPositionalEmbedding(1026, 768)\n",
       "      (layers): ModuleList(\n",
       "        (0-5): 6 x BartEncoderLayer(\n",
       "          (self_attn): BartAttention(\n",
       "            (k_proj): Linear(in_features=768, out_features=768, bias=True)\n",
       "            (v_proj): Linear(in_features=768, out_features=768, bias=True)\n",
       "            (q_proj): Linear(in_features=768, out_features=768, bias=True)\n",
       "            (out_proj): Linear(in_features=768, out_features=768, bias=True)\n",
       "          )\n",
       "          (self_attn_layer_norm): LayerNorm((768,), eps=1e-05, elementwise_affine=True)\n",
       "          (activation_fn): GELUActivation()\n",
       "          (fc1): Linear(in_features=768, out_features=3072, bias=True)\n",
       "          (fc2): Linear(in_features=3072, out_features=768, bias=True)\n",
       "          (final_layer_norm): LayerNorm((768,), eps=1e-05, elementwise_affine=True)\n",
       "        )\n",
       "      )\n",
       "      (layernorm_embedding): LayerNorm((768,), eps=1e-05, elementwise_affine=True)\n",
       "    )\n",
       "    (decoder): BartDecoder(\n",
       "      (embed_tokens): Embedding(59481, 768, padding_idx=1)\n",
       "      (embed_positions): BartLearnedPositionalEmbedding(1026, 768)\n",
       "      (layers): ModuleList(\n",
       "        (0-5): 6 x BartDecoderLayer(\n",
       "          (self_attn): BartAttention(\n",
       "            (k_proj): Linear(in_features=768, out_features=768, bias=True)\n",
       "            (v_proj): Linear(in_features=768, out_features=768, bias=True)\n",
       "            (q_proj): Linear(in_features=768, out_features=768, bias=True)\n",
       "            (out_proj): Linear(in_features=768, out_features=768, bias=True)\n",
       "          )\n",
       "          (activation_fn): GELUActivation()\n",
       "          (self_attn_layer_norm): LayerNorm((768,), eps=1e-05, elementwise_affine=True)\n",
       "          (encoder_attn): BartAttention(\n",
       "            (k_proj): Linear(in_features=768, out_features=768, bias=True)\n",
       "            (v_proj): Linear(in_features=768, out_features=768, bias=True)\n",
       "            (q_proj): Linear(in_features=768, out_features=768, bias=True)\n",
       "            (out_proj): Linear(in_features=768, out_features=768, bias=True)\n",
       "          )\n",
       "          (encoder_attn_layer_norm): LayerNorm((768,), eps=1e-05, elementwise_affine=True)\n",
       "          (fc1): Linear(in_features=768, out_features=3072, bias=True)\n",
       "          (fc2): Linear(in_features=3072, out_features=768, bias=True)\n",
       "          (final_layer_norm): LayerNorm((768,), eps=1e-05, elementwise_affine=True)\n",
       "        )\n",
       "      )\n",
       "      (layernorm_embedding): LayerNorm((768,), eps=1e-05, elementwise_affine=True)\n",
       "    )\n",
       "  )\n",
       "  (lm_head): Linear(in_features=768, out_features=59481, bias=False)\n",
       ")"
      ]
     },
     "execution_count": 11,
     "metadata": {},
     "output_type": "execute_result"
    }
   ],
   "source": [
    "from transformers import AutoTokenizer, AutoModelForSeq2SeqLM\n",
    "\n",
    "tokenizer = AutoTokenizer.from_pretrained(\"lca0503/speech-chatgpt-base-nar-v2-epoch4-wotrans\")\n",
    "model = AutoModelForSeq2SeqLM.from_pretrained(\"lca0503/speech-chatgpt-base-nar-v2-epoch4-wotrans\")\n",
    "\n",
    "# tokenizer = AutoTokenizer.from_pretrained(\"huggingtweets/elonmusk\")  \n",
    "# model = AutoModelWithLMHead.from_pretrained(\"huggingtweets/elonmusk\")\n",
    "model.eval()\n",
    "model.cuda()"
   ]
  },
  {
   "cell_type": "markdown",
   "metadata": {
    "id": "342ChdlM5CXv"
   },
   "source": [
    "**a sentiment classifier for rl reward**"
   ]
  },
  {
   "cell_type": "code",
   "execution_count": 12,
   "metadata": {
    "colab": {
     "base_uri": "https://localhost:8080/"
    },
    "id": "UYRgFPW_HrJo",
    "outputId": "a78366c1-d0ba-4220-97f2-d3fc0577a99a",
    "pycharm": {
     "is_executing": true
    }
   },
   "outputs": [
    {
     "name": "stderr",
     "output_type": "stream",
     "text": [
      "/home/b0990106x/miniconda3/lib/python3.11/site-packages/transformers/pipelines/text_classification.py:105: UserWarning: `return_all_scores` is now deprecated,  if want a similar functionality use `top_k=None` instead of `return_all_scores=True` or `top_k=1` instead of `return_all_scores=False`.\n",
      "  warnings.warn(\n"
     ]
    }
   ],
   "source": [
    "sentiment = pipeline('sentiment-analysis',model=\"cardiffnlp/twitter-roberta-base-sentiment\",tokenizer=\"cardiffnlp/twitter-roberta-base-sentiment\",device=0,return_all_scores=True)"
   ]
  },
  {
   "cell_type": "code",
   "execution_count": 5,
   "metadata": {
    "id": "o47CRT8TKqvn"
   },
   "outputs": [],
   "source": [
    "transformers_logger = logging.getLogger('transformers')\n",
    "transformers_logger.setLevel(logging.CRITICAL)"
   ]
  },
  {
   "cell_type": "code",
   "execution_count": 6,
   "metadata": {
    "colab": {
     "base_uri": "https://localhost:8080/"
    },
    "id": "GgFrS5gQIAxR",
    "outputId": "5336889f-b05b-415e-d368-e4d953a5591e"
   },
   "outputs": [
    {
     "data": {
      "text/plain": [
       "[[{'label': 'LABEL_0', 'score': 0.933853268623352},\n",
       "  {'label': 'LABEL_1', 'score': 0.0601189061999321},\n",
       "  {'label': 'LABEL_2', 'score': 0.00602772505953908}]]"
      ]
     },
     "execution_count": 6,
     "metadata": {},
     "output_type": "execute_result"
    }
   ],
   "source": [
    "sentiment(\"dogecoin is bad\")"
   ]
  },
  {
   "cell_type": "code",
   "execution_count": 7,
   "metadata": {
    "colab": {
     "base_uri": "https://localhost:8080/"
    },
    "id": "GhVcFdwjJzjW",
    "outputId": "c397a19c-c53c-4013-e45b-069b65eaf615"
   },
   "outputs": [
    {
     "data": {
      "text/plain": [
       "0.933853268623352"
      ]
     },
     "execution_count": 7,
     "metadata": {},
     "output_type": "execute_result"
    }
   ],
   "source": [
    "sentiment(\"dogecoin is bad\")[0][0]['score']"
   ]
  },
  {
   "cell_type": "markdown",
   "metadata": {
    "id": "SfjPrvcK5N5e"
   },
   "source": [
    "set our text generation reward, inverse perplexity + sentiment classifier.\n",
    "- inverse perplexity make sure the generated sentence probability will be high.\n",
    "- sentiment classifier can make the generate more negative."
   ]
  },
  {
   "cell_type": "code",
   "execution_count": 8,
   "metadata": {
    "id": "OgNGUk99HMtT"
   },
   "outputs": [],
   "source": [
    "class MyRLEnv(TextRLEnv):\n",
    "    def get_reward(self, input_item, predicted_list, finish): # predicted will be the list of predicted token\n",
    "      reward = 0\n",
    "      if finish or len(predicted_list) >= self.env_max_length:\n",
    "        predicted_text = tokenizer.convert_tokens_to_string(predicted_list[0])\n",
    "        # sentiment classifier\n",
    "        reward = sentiment(input_item[0]+predicted_text)[0][0]['score'] * 10\n",
    "      return reward"
   ]
  },
  {
   "cell_type": "markdown",
   "metadata": {
    "id": "jqF7mNCY5tdO"
   },
   "source": [
    "**fit one example**"
   ]
  },
  {
   "cell_type": "code",
   "execution_count": 9,
   "metadata": {
    "id": "cy4tCfslKGd4"
   },
   "outputs": [],
   "source": [
    "observaton_list = [{'input':'i think dogecoin is'}]"
   ]
  },
  {
   "cell_type": "code",
   "execution_count": 11,
   "metadata": {
    "id": "wtGfk03eHOv_"
   },
   "outputs": [],
   "source": [
    "env = MyRLEnv(model, tokenizer, observation_input=observaton_list,compare_sample=1)\n",
    "actor = TextRLActor(env,model,tokenizer)\n",
    "agent = actor.agent_ppo(update_interval=100, minibatch_size=3, epochs=10)"
   ]
  },
  {
   "cell_type": "code",
   "execution_count": 12,
   "metadata": {
    "colab": {
     "base_uri": "https://localhost:8080/"
    },
    "id": "_sBBy1yjIdtP",
    "outputId": "62125633-6c76-47eb-c207-ebf33a99e78e"
   },
   "outputs": [
    {
     "data": {
      "text/plain": [
       "[' a good idea<|endoftext|>']"
      ]
     },
     "execution_count": 12,
     "metadata": {},
     "output_type": "execute_result"
    }
   ],
   "source": [
    "actor.predict(observaton_list[0])"
   ]
  },
  {
   "cell_type": "code",
   "execution_count": null,
   "metadata": {
    "colab": {
     "base_uri": "https://localhost:8080/"
    },
    "id": "FBysk9MiHR2D",
    "outputId": "4086dcd7-6d19-44bc-e1b0-fa764f873301",
    "pycharm": {
     "is_executing": true
    }
   },
   "outputs": [],
   "source": [
    "pfrl.experiments.train_agent_with_evaluation(\n",
    "    agent,\n",
    "    env,\n",
    "    steps=300,\n",
    "    eval_n_steps=None,\n",
    "    eval_n_episodes=1,       \n",
    "    train_max_episode_len=100,  \n",
    "    eval_interval=10,\n",
    "    outdir='elon_musk_dogecoin', \n",
    ")"
   ]
  },
  {
   "cell_type": "markdown",
   "metadata": {
    "id": "9B7rMPRU5zsM"
   },
   "source": [
    "loading the best result and predict."
   ]
  },
  {
   "cell_type": "code",
   "execution_count": 16,
   "metadata": {
    "id": "FrkYGPjYTIcS"
   },
   "outputs": [],
   "source": [
    "agent.load(\"./elon_musk_dogecoin/best\")"
   ]
  },
  {
   "cell_type": "code",
   "execution_count": 17,
   "metadata": {
    "colab": {
     "base_uri": "https://localhost:8080/"
    },
    "id": "dpAwe42ES-5w",
    "outputId": "bb12c0d2-1916-4076-8f98-b20d2a2e4e57"
   },
   "outputs": [
    {
     "data": {
      "text/plain": [
       "[' a real thing<|endoftext|>']"
      ]
     },
     "execution_count": 17,
     "metadata": {},
     "output_type": "execute_result"
    }
   ],
   "source": [
    "actor.predict(observaton_list[0])"
   ]
  }
 ],
 "metadata": {
  "accelerator": "GPU",
  "colab": {
   "provenance": []
  },
  "kernelspec": {
   "display_name": "Python 3 (ipykernel)",
   "language": "python",
   "name": "python3"
  },
  "language_info": {
   "codemirror_mode": {
    "name": "ipython",
    "version": 3
   },
   "file_extension": ".py",
   "mimetype": "text/x-python",
   "name": "python",
   "nbconvert_exporter": "python",
   "pygments_lexer": "ipython3",
   "version": "3.10.12"
  },
  "vscode": {
   "interpreter": {
    "hash": "2c6c77b12b02a1c2aaa91a9fb9cc35bb3c4bbfb7b716f83ac7b2b57ffb1247cc"
   }
  }
 },
 "nbformat": 4,
 "nbformat_minor": 1
}
