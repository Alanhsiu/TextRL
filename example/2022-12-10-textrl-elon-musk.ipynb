{
 "cells": [
  {
   "cell_type": "markdown",
   "metadata": {
    "id": "At5gZSqIG1ah"
   },
   "source": [
    "# Controllable generation via RL to let Elon Musk speak ill of DOGE\n",
    "> How to control text generation through a sentiment classifier.\n",
    "\n"
   ]
  },
  {
   "cell_type": "code",
   "execution_count": 1,
   "metadata": {
    "id": "tgBsD1fa0hJn"
   },
   "outputs": [
    {
     "name": "stdout",
     "output_type": "stream",
     "text": [
      "Looking in indexes: https://pypi.org/simple, https://pypi.ngc.nvidia.com\n",
      "Collecting pfrl@ git+https://github.com/voidful/pfrl.git\n",
      "  Cloning https://github.com/voidful/pfrl.git to /tmp/pip-install-svjh1d7h/pfrl_0ce69eae01084ad2bb298e823ab4dc31\n",
      "  Running command git clone --filter=blob:none --quiet https://github.com/voidful/pfrl.git /tmp/pip-install-svjh1d7h/pfrl_0ce69eae01084ad2bb298e823ab4dc31\n",
      "  Resolved https://github.com/voidful/pfrl.git to commit bd679022d91902a3c88066d2646ad69b30d5684a\n",
      "  Preparing metadata (setup.py) ... \u001b[?25ldone\n",
      "\u001b[?25hRequirement already satisfied: torch>=1.3.0 in /home/b0990106x/miniconda3/lib/python3.11/site-packages (from pfrl@ git+https://github.com/voidful/pfrl.git) (2.0.1)\n",
      "Collecting gym>=0.9.7 (from pfrl@ git+https://github.com/voidful/pfrl.git)\n",
      "  Downloading gym-0.26.2.tar.gz (721 kB)\n",
      "\u001b[2K     \u001b[90m━━━━━━━━━━━━━━━━━━━━━━━━━━━━━━━━━━━━━━━\u001b[0m \u001b[32m721.7/721.7 kB\u001b[0m \u001b[31m3.2 MB/s\u001b[0m eta \u001b[36m0:00:00\u001b[0ma \u001b[36m0:00:01\u001b[0m\n",
      "\u001b[?25h  Installing build dependencies ... \u001b[?25ldone\n",
      "\u001b[?25h  Getting requirements to build wheel ... \u001b[?25ldone\n",
      "\u001b[?25h  Preparing metadata (pyproject.toml) ... \u001b[?25ldone\n",
      "\u001b[?25hRequirement already satisfied: numpy>=1.10.4 in /home/b0990106x/miniconda3/lib/python3.11/site-packages (from pfrl@ git+https://github.com/voidful/pfrl.git) (1.26.2)\n",
      "Collecting pillow (from pfrl@ git+https://github.com/voidful/pfrl.git)\n",
      "  Downloading pillow-10.2.0-cp311-cp311-manylinux_2_28_x86_64.whl (4.5 MB)\n",
      "\u001b[2K     \u001b[90m━━━━━━━━━━━━━━━━━━━━━━━━━━━━━━━━━━━━━━━━\u001b[0m \u001b[32m4.5/4.5 MB\u001b[0m \u001b[31m32.7 MB/s\u001b[0m eta \u001b[36m0:00:00\u001b[0m00:01\u001b[0m00:01\u001b[0m\n",
      "\u001b[?25hRequirement already satisfied: filelock in /home/b0990106x/miniconda3/lib/python3.11/site-packages (from pfrl@ git+https://github.com/voidful/pfrl.git) (3.12.2)\n",
      "Collecting cloudpickle>=1.2.0 (from gym>=0.9.7->pfrl@ git+https://github.com/voidful/pfrl.git)\n",
      "  Downloading cloudpickle-3.0.0-py3-none-any.whl (20 kB)\n",
      "Collecting gym-notices>=0.0.4 (from gym>=0.9.7->pfrl@ git+https://github.com/voidful/pfrl.git)\n",
      "  Downloading gym_notices-0.0.8-py3-none-any.whl (3.0 kB)\n",
      "Requirement already satisfied: typing-extensions in /home/b0990106x/miniconda3/lib/python3.11/site-packages (from torch>=1.3.0->pfrl@ git+https://github.com/voidful/pfrl.git) (4.9.0)\n",
      "Requirement already satisfied: sympy in /home/b0990106x/miniconda3/lib/python3.11/site-packages (from torch>=1.3.0->pfrl@ git+https://github.com/voidful/pfrl.git) (1.12)\n",
      "Requirement already satisfied: networkx in /home/b0990106x/miniconda3/lib/python3.11/site-packages (from torch>=1.3.0->pfrl@ git+https://github.com/voidful/pfrl.git) (3.1)\n",
      "Requirement already satisfied: jinja2 in /home/b0990106x/miniconda3/lib/python3.11/site-packages (from torch>=1.3.0->pfrl@ git+https://github.com/voidful/pfrl.git) (3.1.2)\n",
      "Requirement already satisfied: nvidia-cuda-nvrtc-cu11==11.7.99 in /home/b0990106x/miniconda3/lib/python3.11/site-packages (from torch>=1.3.0->pfrl@ git+https://github.com/voidful/pfrl.git) (11.7.99)\n",
      "Requirement already satisfied: nvidia-cuda-runtime-cu11==11.7.99 in /home/b0990106x/miniconda3/lib/python3.11/site-packages (from torch>=1.3.0->pfrl@ git+https://github.com/voidful/pfrl.git) (11.7.99)\n",
      "Requirement already satisfied: nvidia-cuda-cupti-cu11==11.7.101 in /home/b0990106x/miniconda3/lib/python3.11/site-packages (from torch>=1.3.0->pfrl@ git+https://github.com/voidful/pfrl.git) (11.7.101)\n",
      "Requirement already satisfied: nvidia-cudnn-cu11==8.5.0.96 in /home/b0990106x/miniconda3/lib/python3.11/site-packages (from torch>=1.3.0->pfrl@ git+https://github.com/voidful/pfrl.git) (8.5.0.96)\n",
      "Requirement already satisfied: nvidia-cublas-cu11==11.10.3.66 in /home/b0990106x/miniconda3/lib/python3.11/site-packages (from torch>=1.3.0->pfrl@ git+https://github.com/voidful/pfrl.git) (11.10.3.66)\n",
      "Requirement already satisfied: nvidia-cufft-cu11==10.9.0.58 in /home/b0990106x/miniconda3/lib/python3.11/site-packages (from torch>=1.3.0->pfrl@ git+https://github.com/voidful/pfrl.git) (10.9.0.58)\n",
      "Requirement already satisfied: nvidia-curand-cu11==10.2.10.91 in /home/b0990106x/miniconda3/lib/python3.11/site-packages (from torch>=1.3.0->pfrl@ git+https://github.com/voidful/pfrl.git) (10.2.10.91)\n",
      "Requirement already satisfied: nvidia-cusolver-cu11==11.4.0.1 in /home/b0990106x/miniconda3/lib/python3.11/site-packages (from torch>=1.3.0->pfrl@ git+https://github.com/voidful/pfrl.git) (11.4.0.1)\n",
      "Requirement already satisfied: nvidia-cusparse-cu11==11.7.4.91 in /home/b0990106x/miniconda3/lib/python3.11/site-packages (from torch>=1.3.0->pfrl@ git+https://github.com/voidful/pfrl.git) (11.7.4.91)\n",
      "Requirement already satisfied: nvidia-nccl-cu11==2.14.3 in /home/b0990106x/miniconda3/lib/python3.11/site-packages (from torch>=1.3.0->pfrl@ git+https://github.com/voidful/pfrl.git) (2.14.3)\n",
      "Requirement already satisfied: nvidia-nvtx-cu11==11.7.91 in /home/b0990106x/miniconda3/lib/python3.11/site-packages (from torch>=1.3.0->pfrl@ git+https://github.com/voidful/pfrl.git) (11.7.91)\n",
      "Requirement already satisfied: triton==2.0.0 in /home/b0990106x/miniconda3/lib/python3.11/site-packages (from torch>=1.3.0->pfrl@ git+https://github.com/voidful/pfrl.git) (2.0.0)\n",
      "Requirement already satisfied: setuptools in /home/b0990106x/miniconda3/lib/python3.11/site-packages (from nvidia-cublas-cu11==11.10.3.66->torch>=1.3.0->pfrl@ git+https://github.com/voidful/pfrl.git) (67.8.0)\n",
      "Requirement already satisfied: wheel in /home/b0990106x/miniconda3/lib/python3.11/site-packages (from nvidia-cublas-cu11==11.10.3.66->torch>=1.3.0->pfrl@ git+https://github.com/voidful/pfrl.git) (0.38.4)\n",
      "Requirement already satisfied: cmake in /home/b0990106x/miniconda3/lib/python3.11/site-packages (from triton==2.0.0->torch>=1.3.0->pfrl@ git+https://github.com/voidful/pfrl.git) (3.27.2)\n",
      "Requirement already satisfied: lit in /home/b0990106x/miniconda3/lib/python3.11/site-packages (from triton==2.0.0->torch>=1.3.0->pfrl@ git+https://github.com/voidful/pfrl.git) (16.0.6)\n",
      "Requirement already satisfied: MarkupSafe>=2.0 in /home/b0990106x/miniconda3/lib/python3.11/site-packages (from jinja2->torch>=1.3.0->pfrl@ git+https://github.com/voidful/pfrl.git) (2.1.3)\n",
      "Requirement already satisfied: mpmath>=0.19 in /home/b0990106x/miniconda3/lib/python3.11/site-packages (from sympy->torch>=1.3.0->pfrl@ git+https://github.com/voidful/pfrl.git) (1.3.0)\n",
      "Building wheels for collected packages: pfrl, gym\n",
      "  Building wheel for pfrl (setup.py) ... \u001b[?25ldone\n",
      "\u001b[?25h  Created wheel for pfrl: filename=pfrl-0.4.0-py3-none-any.whl size=155509 sha256=68b7a4d14352c5618e53ab0454422a7b0a6e0a49b5c67717678cb8d5079e505f\n",
      "  Stored in directory: /tmp/pip-ephem-wheel-cache-gki01ezg/wheels/63/c0/02/7b4f2cdbe80562e9c9ebac3145243b49ff8d940bec10dbf7d2\n",
      "  Building wheel for gym (pyproject.toml) ... \u001b[?25ldone\n",
      "\u001b[?25h  Created wheel for gym: filename=gym-0.26.2-py3-none-any.whl size=827633 sha256=a81748be7f14f70f666953e6fb2fe62ad7836bcddc6346987fb836a4c341899e\n",
      "  Stored in directory: /tmp/pip-ephem-wheel-cache-gki01ezg/wheels/1c/77/9e/9af5470201a0b0543937933ee99ba884cd237d2faefe8f4d37\n",
      "Successfully built pfrl gym\n",
      "Installing collected packages: gym-notices, pillow, cloudpickle, gym, pfrl\n",
      "Successfully installed cloudpickle-3.0.0 gym-0.26.2 gym-notices-0.0.8 pfrl-0.4.0 pillow-10.2.0\n",
      "Looking in indexes: https://pypi.org/simple, https://pypi.ngc.nvidia.com\n",
      "Collecting textrl==0.2.15\n",
      "  Downloading textrl-0.2.15-py3-none-any.whl (18 kB)\n",
      "Requirement already satisfied: gym in /home/b0990106x/miniconda3/lib/python3.11/site-packages (from textrl==0.2.15) (0.26.2)\n",
      "Collecting transformers (from textrl==0.2.15)\n",
      "  Downloading transformers-4.37.2-py3-none-any.whl (8.4 MB)\n",
      "\u001b[2K     \u001b[90m━━━━━━━━━━━━━━━━━━━━━━━━━━━━━━━━━━━━━━━━\u001b[0m \u001b[32m8.4/8.4 MB\u001b[0m \u001b[31m428.9 kB/s\u001b[0m eta \u001b[36m0:00:00\u001b[0m00:01\u001b[0m00:01\u001b[0m\n",
      "\u001b[?25hRequirement already satisfied: numpy>=1.18.0 in /home/b0990106x/miniconda3/lib/python3.11/site-packages (from gym->textrl==0.2.15) (1.26.2)\n",
      "Requirement already satisfied: cloudpickle>=1.2.0 in /home/b0990106x/miniconda3/lib/python3.11/site-packages (from gym->textrl==0.2.15) (3.0.0)\n",
      "Requirement already satisfied: gym-notices>=0.0.4 in /home/b0990106x/miniconda3/lib/python3.11/site-packages (from gym->textrl==0.2.15) (0.0.8)\n",
      "Requirement already satisfied: filelock in /home/b0990106x/miniconda3/lib/python3.11/site-packages (from transformers->textrl==0.2.15) (3.12.2)\n",
      "Collecting huggingface-hub<1.0,>=0.19.3 (from transformers->textrl==0.2.15)\n",
      "  Downloading huggingface_hub-0.20.3-py3-none-any.whl (330 kB)\n",
      "\u001b[2K     \u001b[90m━━━━━━━━━━━━━━━━━━━━━━━━━━━━━━━━━━━━━━\u001b[0m \u001b[32m330.1/330.1 kB\u001b[0m \u001b[31m20.5 MB/s\u001b[0m eta \u001b[36m0:00:00\u001b[0m\n",
      "\u001b[?25hRequirement already satisfied: packaging>=20.0 in /home/b0990106x/miniconda3/lib/python3.11/site-packages (from transformers->textrl==0.2.15) (23.1)\n",
      "Collecting pyyaml>=5.1 (from transformers->textrl==0.2.15)\n",
      "  Downloading PyYAML-6.0.1-cp311-cp311-manylinux_2_17_x86_64.manylinux2014_x86_64.whl (757 kB)\n",
      "\u001b[2K     \u001b[90m━━━━━━━━━━━━━━━━━━━━━━━━━━━━━━━━━━━━━\u001b[0m \u001b[32m757.7/757.7 kB\u001b[0m \u001b[31m261.5 MB/s\u001b[0m eta \u001b[36m0:00:00\u001b[0m\n",
      "\u001b[?25hRequirement already satisfied: regex!=2019.12.17 in /home/b0990106x/.local/lib/python3.11/site-packages (from transformers->textrl==0.2.15) (2023.8.8)\n",
      "Requirement already satisfied: requests in /home/b0990106x/miniconda3/lib/python3.11/site-packages (from transformers->textrl==0.2.15) (2.31.0)\n",
      "Collecting tokenizers<0.19,>=0.14 (from transformers->textrl==0.2.15)\n",
      "  Downloading tokenizers-0.15.2-cp311-cp311-manylinux_2_17_x86_64.manylinux2014_x86_64.whl (3.6 MB)\n",
      "\u001b[2K     \u001b[90m━━━━━━━━━━━━━━━━━━━━━━━━━━━━━━━━━━━━━━━━\u001b[0m \u001b[32m3.6/3.6 MB\u001b[0m \u001b[31m288.0 kB/s\u001b[0m eta \u001b[36m0:00:00\u001b[0m00:01\u001b[0m00:01\u001b[0m\n",
      "\u001b[?25hCollecting safetensors>=0.4.1 (from transformers->textrl==0.2.15)\n",
      "  Downloading safetensors-0.4.2-cp311-cp311-manylinux_2_17_x86_64.manylinux2014_x86_64.whl (1.3 MB)\n",
      "\u001b[2K     \u001b[90m━━━━━━━━━━━━━━━━━━━━━━━━━━━━━━━━━━━━━━━━\u001b[0m \u001b[32m1.3/1.3 MB\u001b[0m \u001b[31m29.8 MB/s\u001b[0m eta \u001b[36m0:00:00\u001b[0ma \u001b[36m0:00:01\u001b[0m\n",
      "\u001b[?25hRequirement already satisfied: tqdm>=4.27 in /home/b0990106x/miniconda3/lib/python3.11/site-packages (from transformers->textrl==0.2.15) (4.65.0)\n",
      "Collecting fsspec>=2023.5.0 (from huggingface-hub<1.0,>=0.19.3->transformers->textrl==0.2.15)\n",
      "  Downloading fsspec-2024.2.0-py3-none-any.whl (170 kB)\n",
      "\u001b[2K     \u001b[90m━━━━━━━━━━━━━━━━━━━━━━━━━━━━━━━━━━━━━\u001b[0m \u001b[32m170.9/170.9 kB\u001b[0m \u001b[31m142.8 MB/s\u001b[0m eta \u001b[36m0:00:00\u001b[0m\n",
      "\u001b[?25hRequirement already satisfied: typing-extensions>=3.7.4.3 in /home/b0990106x/miniconda3/lib/python3.11/site-packages (from huggingface-hub<1.0,>=0.19.3->transformers->textrl==0.2.15) (4.9.0)\n",
      "Requirement already satisfied: charset-normalizer<4,>=2 in /home/b0990106x/miniconda3/lib/python3.11/site-packages (from requests->transformers->textrl==0.2.15) (2.0.4)\n",
      "Requirement already satisfied: idna<4,>=2.5 in /home/b0990106x/miniconda3/lib/python3.11/site-packages (from requests->transformers->textrl==0.2.15) (3.4)\n",
      "Requirement already satisfied: urllib3<3,>=1.21.1 in /home/b0990106x/miniconda3/lib/python3.11/site-packages (from requests->transformers->textrl==0.2.15) (1.26.16)\n",
      "Requirement already satisfied: certifi>=2017.4.17 in /home/b0990106x/miniconda3/lib/python3.11/site-packages (from requests->transformers->textrl==0.2.15) (2024.2.2)\n",
      "Installing collected packages: safetensors, pyyaml, fsspec, huggingface-hub, tokenizers, transformers, textrl\n",
      "Successfully installed fsspec-2024.2.0 huggingface-hub-0.20.3 pyyaml-6.0.1 safetensors-0.4.2 textrl-0.2.15 tokenizers-0.15.2 transformers-4.37.2\n"
     ]
    }
   ],
   "source": [
    "!pip install pfrl@git+https://github.com/voidful/pfrl.git\n",
    "!pip install textrl==0.2.15"
   ]
  },
  {
   "cell_type": "code",
   "execution_count": 2,
   "metadata": {
    "id": "c8BT6ZwpNke-"
   },
   "outputs": [
    {
     "name": "stderr",
     "output_type": "stream",
     "text": [
      "/home/b0990106x/miniconda3/lib/python3.11/site-packages/tqdm/auto.py:21: TqdmWarning: IProgress not found. Please update jupyter and ipywidgets. See https://ipywidgets.readthedocs.io/en/stable/user_install.html\n",
      "  from .autonotebook import tqdm as notebook_tqdm\n"
     ]
    }
   ],
   "source": [
    "from textrl import TextRLEnv,TextRLActor\n",
    "from transformers import pipeline, AutoModelForTokenClassification, AutoTokenizer, AutoModelWithLMHead\n",
    "import logging\n",
    "import sys\n",
    "import pfrl\n",
    "import torch\n",
    "logging.basicConfig(level=logging.INFO, stream=sys.stdout, format='')"
   ]
  },
  {
   "cell_type": "markdown",
   "metadata": {
    "id": "Re1cxoPZ4wgf"
   },
   "source": [
    "**Using a pre-trained model, it can generate elonmusk's style tweets.**"
   ]
  },
  {
   "cell_type": "code",
   "execution_count": 11,
   "metadata": {
    "id": "f0TqcFITHHdX"
   },
   "outputs": [
    {
     "name": "stderr",
     "output_type": "stream",
     "text": [
      "tokenizer_config.json: 100%|██████████| 349/349 [00:00<00:00, 1.24MB/s]\n",
      "vocab.json: 100%|██████████| 798k/798k [00:00<00:00, 1.00MB/s]\n",
      "merges.txt: 100%|██████████| 456k/456k [00:00<00:00, 767kB/s]\n",
      "tokenizer.json: 100%|██████████| 3.82M/3.82M [00:01<00:00, 3.20MB/s]\n",
      "added_tokens.json: 100%|██████████| 211k/211k [00:00<00:00, 530kB/s]\n",
      "special_tokens_map.json: 100%|██████████| 280/280 [00:00<00:00, 2.21MB/s]\n",
      "config.json: 100%|██████████| 1.75k/1.75k [00:00<00:00, 5.80MB/s]\n",
      "pytorch_model.bin: 100%|██████████| 586M/586M [00:31<00:00, 18.4MB/s] \n"
     ]
    },
    {
     "data": {
      "text/plain": [
       "BartForConditionalGeneration(\n",
       "  (model): BartModel(\n",
       "    (shared): Embedding(59481, 768, padding_idx=1)\n",
       "    (encoder): BartEncoder(\n",
       "      (embed_tokens): Embedding(59481, 768, padding_idx=1)\n",
       "      (embed_positions): BartLearnedPositionalEmbedding(1026, 768)\n",
       "      (layers): ModuleList(\n",
       "        (0-5): 6 x BartEncoderLayer(\n",
       "          (self_attn): BartAttention(\n",
       "            (k_proj): Linear(in_features=768, out_features=768, bias=True)\n",
       "            (v_proj): Linear(in_features=768, out_features=768, bias=True)\n",
       "            (q_proj): Linear(in_features=768, out_features=768, bias=True)\n",
       "            (out_proj): Linear(in_features=768, out_features=768, bias=True)\n",
       "          )\n",
       "          (self_attn_layer_norm): LayerNorm((768,), eps=1e-05, elementwise_affine=True)\n",
       "          (activation_fn): GELUActivation()\n",
       "          (fc1): Linear(in_features=768, out_features=3072, bias=True)\n",
       "          (fc2): Linear(in_features=3072, out_features=768, bias=True)\n",
       "          (final_layer_norm): LayerNorm((768,), eps=1e-05, elementwise_affine=True)\n",
       "        )\n",
       "      )\n",
       "      (layernorm_embedding): LayerNorm((768,), eps=1e-05, elementwise_affine=True)\n",
       "    )\n",
       "    (decoder): BartDecoder(\n",
       "      (embed_tokens): Embedding(59481, 768, padding_idx=1)\n",
       "      (embed_positions): BartLearnedPositionalEmbedding(1026, 768)\n",
       "      (layers): ModuleList(\n",
       "        (0-5): 6 x BartDecoderLayer(\n",
       "          (self_attn): BartAttention(\n",
       "            (k_proj): Linear(in_features=768, out_features=768, bias=True)\n",
       "            (v_proj): Linear(in_features=768, out_features=768, bias=True)\n",
       "            (q_proj): Linear(in_features=768, out_features=768, bias=True)\n",
       "            (out_proj): Linear(in_features=768, out_features=768, bias=True)\n",
       "          )\n",
       "          (activation_fn): GELUActivation()\n",
       "          (self_attn_layer_norm): LayerNorm((768,), eps=1e-05, elementwise_affine=True)\n",
       "          (encoder_attn): BartAttention(\n",
       "            (k_proj): Linear(in_features=768, out_features=768, bias=True)\n",
       "            (v_proj): Linear(in_features=768, out_features=768, bias=True)\n",
       "            (q_proj): Linear(in_features=768, out_features=768, bias=True)\n",
       "            (out_proj): Linear(in_features=768, out_features=768, bias=True)\n",
       "          )\n",
       "          (encoder_attn_layer_norm): LayerNorm((768,), eps=1e-05, elementwise_affine=True)\n",
       "          (fc1): Linear(in_features=768, out_features=3072, bias=True)\n",
       "          (fc2): Linear(in_features=3072, out_features=768, bias=True)\n",
       "          (final_layer_norm): LayerNorm((768,), eps=1e-05, elementwise_affine=True)\n",
       "        )\n",
       "      )\n",
       "      (layernorm_embedding): LayerNorm((768,), eps=1e-05, elementwise_affine=True)\n",
       "    )\n",
       "  )\n",
       "  (lm_head): Linear(in_features=768, out_features=59481, bias=False)\n",
       ")"
      ]
     },
     "execution_count": 11,
     "metadata": {},
     "output_type": "execute_result"
    }
   ],
   "source": [
    "from transformers import AutoTokenizer, AutoModelForSeq2SeqLM\n",
    "\n",
    "tokenizer = AutoTokenizer.from_pretrained(\"lca0503/speech-chatgpt-base-nar-v2-epoch4-wotrans\")\n",
    "model = AutoModelForSeq2SeqLM.from_pretrained(\"lca0503/speech-chatgpt-base-nar-v2-epoch4-wotrans\")\n",
    "\n",
    "# tokenizer = AutoTokenizer.from_pretrained(\"huggingtweets/elonmusk\")  \n",
    "# model = AutoModelWithLMHead.from_pretrained(\"huggingtweets/elonmusk\")\n",
    "model.eval()\n",
    "model.cuda()"
   ]
  },
  {
   "cell_type": "markdown",
   "metadata": {
    "id": "342ChdlM5CXv"
   },
   "source": [
    "**a sentiment classifier for rl reward**"
   ]
  },
  {
   "cell_type": "code",
   "execution_count": 12,
   "metadata": {
    "colab": {
     "base_uri": "https://localhost:8080/"
    },
    "id": "UYRgFPW_HrJo",
    "outputId": "a78366c1-d0ba-4220-97f2-d3fc0577a99a",
    "pycharm": {
     "is_executing": true
    }
   },
   "outputs": [
    {
     "name": "stderr",
     "output_type": "stream",
     "text": [
      "/home/b0990106x/miniconda3/lib/python3.11/site-packages/transformers/pipelines/text_classification.py:105: UserWarning: `return_all_scores` is now deprecated,  if want a similar functionality use `top_k=None` instead of `return_all_scores=True` or `top_k=1` instead of `return_all_scores=False`.\n",
      "  warnings.warn(\n"
     ]
    }
   ],
   "source": [
    "sentiment = pipeline('sentiment-analysis',model=\"cardiffnlp/twitter-roberta-base-sentiment\",tokenizer=\"cardiffnlp/twitter-roberta-base-sentiment\",device=0,return_all_scores=True)"
   ]
  },
  {
   "cell_type": "code",
   "execution_count": 5,
   "metadata": {
    "id": "o47CRT8TKqvn"
   },
   "outputs": [],
   "source": [
    "transformers_logger = logging.getLogger('transformers')\n",
    "transformers_logger.setLevel(logging.CRITICAL)"
   ]
  },
  {
   "cell_type": "code",
   "execution_count": 6,
   "metadata": {
    "colab": {
     "base_uri": "https://localhost:8080/"
    },
    "id": "GgFrS5gQIAxR",
    "outputId": "5336889f-b05b-415e-d368-e4d953a5591e"
   },
   "outputs": [
    {
     "data": {
      "text/plain": [
       "[[{'label': 'LABEL_0', 'score': 0.933853268623352},\n",
       "  {'label': 'LABEL_1', 'score': 0.0601189061999321},\n",
       "  {'label': 'LABEL_2', 'score': 0.00602772505953908}]]"
      ]
     },
     "execution_count": 6,
     "metadata": {},
     "output_type": "execute_result"
    }
   ],
   "source": [
    "sentiment(\"dogecoin is bad\")"
   ]
  },
  {
   "cell_type": "code",
   "execution_count": 7,
   "metadata": {
    "colab": {
     "base_uri": "https://localhost:8080/"
    },
    "id": "GhVcFdwjJzjW",
    "outputId": "c397a19c-c53c-4013-e45b-069b65eaf615"
   },
   "outputs": [
    {
     "data": {
      "text/plain": [
       "0.933853268623352"
      ]
     },
     "execution_count": 7,
     "metadata": {},
     "output_type": "execute_result"
    }
   ],
   "source": [
    "sentiment(\"dogecoin is bad\")[0][0]['score']"
   ]
  },
  {
   "cell_type": "markdown",
   "metadata": {
    "id": "SfjPrvcK5N5e"
   },
   "source": [
    "set our text generation reward, inverse perplexity + sentiment classifier.\n",
    "- inverse perplexity make sure the generated sentence probability will be high.\n",
    "- sentiment classifier can make the generate more negative."
   ]
  },
  {
   "cell_type": "code",
   "execution_count": 8,
   "metadata": {
    "id": "OgNGUk99HMtT"
   },
   "outputs": [],
   "source": [
    "class MyRLEnv(TextRLEnv):\n",
    "    def get_reward(self, input_item, predicted_list, finish): # predicted will be the list of predicted token\n",
    "      reward = 0\n",
    "      if finish or len(predicted_list) >= self.env_max_length:\n",
    "        predicted_text = tokenizer.convert_tokens_to_string(predicted_list[0])\n",
    "        # sentiment classifier\n",
    "        reward = sentiment(input_item[0]+predicted_text)[0][0]['score'] * 10\n",
    "      return reward"
   ]
  },
  {
   "cell_type": "markdown",
   "metadata": {
    "id": "jqF7mNCY5tdO"
   },
   "source": [
    "**fit one example**"
   ]
  },
  {
   "cell_type": "code",
   "execution_count": 9,
   "metadata": {
    "id": "cy4tCfslKGd4"
   },
   "outputs": [],
   "source": [
    "observaton_list = [{'input':'i think dogecoin is'}]"
   ]
  },
  {
   "cell_type": "code",
   "execution_count": 11,
   "metadata": {
    "id": "wtGfk03eHOv_"
   },
   "outputs": [],
   "source": [
    "env = MyRLEnv(model, tokenizer, observation_input=observaton_list,compare_sample=1)\n",
    "actor = TextRLActor(env,model,tokenizer)\n",
    "agent = actor.agent_ppo(update_interval=100, minibatch_size=3, epochs=10)"
   ]
  },
  {
   "cell_type": "code",
   "execution_count": 12,
   "metadata": {
    "colab": {
     "base_uri": "https://localhost:8080/"
    },
    "id": "_sBBy1yjIdtP",
    "outputId": "62125633-6c76-47eb-c207-ebf33a99e78e"
   },
   "outputs": [
    {
     "data": {
      "text/plain": [
       "[' a good idea<|endoftext|>']"
      ]
     },
     "execution_count": 12,
     "metadata": {},
     "output_type": "execute_result"
    }
   ],
   "source": [
    "actor.predict(observaton_list[0])"
   ]
  },
  {
   "cell_type": "code",
   "execution_count": null,
   "metadata": {
    "colab": {
     "base_uri": "https://localhost:8080/"
    },
    "id": "FBysk9MiHR2D",
    "outputId": "4086dcd7-6d19-44bc-e1b0-fa764f873301",
    "pycharm": {
     "is_executing": true
    }
   },
   "outputs": [],
   "source": [
    "pfrl.experiments.train_agent_with_evaluation(\n",
    "    agent,\n",
    "    env,\n",
    "    steps=300,\n",
    "    eval_n_steps=None,\n",
    "    eval_n_episodes=1,       \n",
    "    train_max_episode_len=100,  \n",
    "    eval_interval=10,\n",
    "    outdir='elon_musk_dogecoin', \n",
    ")"
   ]
  },
  {
   "cell_type": "markdown",
   "metadata": {
    "id": "9B7rMPRU5zsM"
   },
   "source": [
    "loading the best result and predict."
   ]
  },
  {
   "cell_type": "code",
   "execution_count": 16,
   "metadata": {
    "id": "FrkYGPjYTIcS"
   },
   "outputs": [],
   "source": [
    "agent.load(\"./elon_musk_dogecoin/best\")"
   ]
  },
  {
   "cell_type": "code",
   "execution_count": 17,
   "metadata": {
    "colab": {
     "base_uri": "https://localhost:8080/"
    },
    "id": "dpAwe42ES-5w",
    "outputId": "bb12c0d2-1916-4076-8f98-b20d2a2e4e57"
   },
   "outputs": [
    {
     "data": {
      "text/plain": [
       "[' a real thing<|endoftext|>']"
      ]
     },
     "execution_count": 17,
     "metadata": {},
     "output_type": "execute_result"
    }
   ],
   "source": [
    "actor.predict(observaton_list[0])"
   ]
  }
 ],
 "metadata": {
  "accelerator": "GPU",
  "colab": {
   "provenance": []
  },
  "kernelspec": {
   "display_name": "Python 3 (ipykernel)",
   "language": "python",
   "name": "python3"
  },
  "language_info": {
   "codemirror_mode": {
    "name": "ipython",
    "version": 3
   },
   "file_extension": ".py",
   "mimetype": "text/x-python",
   "name": "python",
   "nbconvert_exporter": "python",
   "pygments_lexer": "ipython3",
   "version": "3.11.4"
  },
  "vscode": {
   "interpreter": {
    "hash": "2c6c77b12b02a1c2aaa91a9fb9cc35bb3c4bbfb7b716f83ac7b2b57ffb1247cc"
   }
  }
 },
 "nbformat": 4,
 "nbformat_minor": 0
}
