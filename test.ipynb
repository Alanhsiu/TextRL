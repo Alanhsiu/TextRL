{
 "cells": [
  {
   "cell_type": "markdown",
   "metadata": {
    "id": "At5gZSqIG1ah"
   },
   "source": [
    "# Controllable generation via RL to let Elon Musk speak ill of DOGE\n",
    "> How to control text generation through a sentiment classifier.\n",
    "\n"
   ]
  },
  {
   "cell_type": "code",
   "execution_count": 1,
   "metadata": {},
   "outputs": [],
   "source": [
    "import torch\n",
    "from datasets import load_from_disk\n",
    "from vc.encodec_model.nar_bart_model import NARBartForConditionalGeneration\n",
    "from transformers import (AutoTokenizer, BartForConditionalGeneration)\n",
    "import logging\n",
    "import sys\n",
    "import pfrl\n",
    "logging.basicConfig(level=logging.INFO, stream=sys.stdout, format='')\n",
    "\n",
    "# define path\n",
    "base_path = '/work/b0990106x/TextRL'\n",
    "agent_input_dir = f'{base_path}/data-encodec'\n",
    "agent_output_dir = f'{base_path}/output'\n",
    "env_input_dir = agent_output_dir\n",
    "env_output_dir = agent_input_dir\n",
    "\n",
    "ar_checkpoint = \"lca0503/speech-chatgpt-base-ar-v2-epoch10-wotrans\"\n",
    "nar_checkpoint = \"lca0503/speech-chatgpt-base-nar-v2-epoch4-wotrans\"\n",
    "\n",
    "device = \"cuda\" if torch.cuda.is_available() else \"cpu\"\n",
    "ar_tokenizer = AutoTokenizer.from_pretrained(ar_checkpoint)\n",
    "ar_model = BartForConditionalGeneration.from_pretrained(ar_checkpoint)\n",
    "nar_tokenizer = AutoTokenizer.from_pretrained(nar_checkpoint)\n",
    "nar_model = NARBartForConditionalGeneration.from_pretrained(nar_checkpoint)\n",
    "ar_model.to(device)\n",
    "\n",
    "dataset = load_from_disk(agent_input_dir)"
   ]
  },
  {
   "cell_type": "code",
   "execution_count": 2,
   "metadata": {},
   "outputs": [
    {
     "name": "stdout",
     "output_type": "stream",
     "text": [
      "9957\n"
     ]
    }
   ],
   "source": [
    "all_src_encodec_layers = []\n",
    "all_src_encodec = []\n",
    "all_instruction = []\n",
    "all_instruction_ids = []\n",
    "\n",
    "data_len = len(dataset)\n",
    "print(data_len)\n",
    "\n",
    "data_len = 22 # for testing\n",
    "layer_len = 8\n",
    "\n",
    "for i in range(layer_len):\n",
    "    all_src_encodec_layers.append(dataset[f\"src_encodec_{i}\"])\n",
    "\n",
    "for i in range(data_len):\n",
    "    src_encodec = []\n",
    "    for j in range(layer_len):        \n",
    "        src_encodec.append(all_src_encodec_layers[j][i])\n",
    "    all_src_encodec.append(src_encodec)\n",
    "\n",
    "for i in range(data_len):\n",
    "    all_instruction.append(dataset[\"instruction\"][i])\n",
    "    all_instruction_ids.append(ar_tokenizer(all_instruction[i])[\"input_ids\"][1 : -1])"
   ]
  },
  {
   "cell_type": "code",
   "execution_count": 3,
   "metadata": {},
   "outputs": [],
   "source": [
    "# import sys\n",
    "# sys.path.append('/work/b0990106x/TextRL/vc')\n",
    "\n",
    "from importlib import reload\n",
    "import textrl\n",
    "reload(textrl)\n",
    "\n",
    "from textrl import TextRLEnv,TextRLActor\n",
    "# reload(sys.modules['vc.trainer_encodec_vc_inference'])"
   ]
  },
  {
   "cell_type": "code",
   "execution_count": 4,
   "metadata": {},
   "outputs": [],
   "source": [
    "from NISQA.nisqa.NISQA_model import nisqaModel\n",
    "\n",
    "class MyRLEnv(TextRLEnv):\n",
    "    def get_reward(self, input_item, predicted_list, finish): # predicted will be the list of predicted token\n",
    "        reward = 0\n",
    "        if finish or len(predicted_list) >= self.env_max_length:\n",
    "            args_nisqa = {\n",
    "                'mode': 'predict_file', \n",
    "                'pretrained_model': f'{base_path}/NISQA/weights/nisqa.tar', \n",
    "                'deg': f'{base_path}/output/example.wav', \n",
    "                'data_dir': None, \n",
    "                'output_dir': f'{base_path}/NISQA/result',\n",
    "                'csv_file': None, \n",
    "                'csv_deg': None,  \n",
    "                'num_workers': 0, \n",
    "                'bs': 1,\n",
    "                'ms_channel': None\n",
    "            }\n",
    "            args_nisqa['tr_bs_val'] = args_nisqa['bs']\n",
    "            args_nisqa['tr_num_workers'] = args_nisqa['num_workers']\n",
    "            \n",
    "            nisqa = nisqaModel(args_nisqa)\n",
    "            prediction = nisqa.predict()\n",
    "            reward = float(prediction['mos_pred'].iloc[0])\n",
    "            print(\"input_item : \",input_item['input'])\n",
    "            print(\"predicted_list: \", predicted_list)\n",
    "            print(\"reward: \", reward) \n",
    "                       \n",
    "        return reward"
   ]
  },
  {
   "cell_type": "markdown",
   "metadata": {
    "id": "jqF7mNCY5tdO"
   },
   "source": [
    "**fit one example**"
   ]
  },
  {
   "cell_type": "code",
   "execution_count": 5,
   "metadata": {},
   "outputs": [],
   "source": [
    "observation_list = []\n",
    "for i in range(data_len):\n",
    "    observation_list.append({'input': \"\", 'src_encodec': all_src_encodec[i], 'instruction': all_instruction[i]})"
   ]
  },
  {
   "cell_type": "code",
   "execution_count": 6,
   "metadata": {},
   "outputs": [
    {
     "name": "stdout",
     "output_type": "stream",
     "text": [
      "Instruction 0:  Play the audio twice.\n",
      "Instruction 1:  Mildly decrease the emphasis on the higher frequencies.\n",
      "Instruction 2:  Considerably abate the bass frequencies.\n",
      "Instruction 3:  Heighten the chorus effect in the audio by a small amount.\n",
      "Instruction 4:  Hold off on playing the audio for 1 second.\n",
      "Instruction 5:  Intensify the sound of the higher frequencies.\n",
      "Instruction 6:  Give the audio a gradual increase in volume for 5 seconds from the onset.\n",
      "Instruction 7:  Add a conspicuous chorus effect to the audio.\n",
      "Instruction 8:  Significantly dampen the vibrations of the high notes.\n",
      "Instruction 9:  Decrease the pitch of the audio by a moderate amount.\n",
      "Instruction 10:  Introduce a minor adjustment to the pitch of the audio to make it lower.\n",
      "Instruction 11:  Enlarge the scope and widen the reach of the sound quality.\n",
      "Instruction 12:  Amplifying the sound to deliver a clearer and brighter rendition.\n",
      "Instruction 13:  Backtrack the sound.\n",
      "Instruction 14:  Enlarge the depth of the lower frequencies significantly.\n",
      "Instruction 15:  Refining the sound to make it more discernible and lively.\n",
      "Instruction 16:  Reduce the high-end frequencies considerably.\n",
      "Instruction 17:  Strengthen the chorus effect on the audio.\n",
      "Instruction 18:  During the introduction of the audio, steadily increase the volume by 5 second.\n",
      "Instruction 19:  Reduce the prominence of the higher frequency range. \n",
      "Instruction 20:  Apply a chorus effect that's easily noticeable to the audio.\n",
      "Instruction 21:  Increase volume and clarity to brighten the overall sound output.\n"
     ]
    }
   ],
   "source": [
    "for i in range(data_len):\n",
    "    print(f\"Instruction {i}: \", observation_list[i]['instruction'])"
   ]
  },
  {
   "cell_type": "code",
   "execution_count": 7,
   "metadata": {
    "id": "wtGfk03eHOv_"
   },
   "outputs": [
    {
     "name": "stdout",
     "output_type": "stream",
     "text": [
      "model name:  BartForConditionalGeneration\n",
      "----------------------------- reset -----------------------------\n",
      "size_of_packed_input:  121\n",
      "output_path_ckpt:  /work/b0990106x/TextRL/output/example_save_0.wav\n",
      "Input IDs shape: torch.Size([1, 121])\n"
     ]
    },
    {
     "name": "stderr",
     "output_type": "stream",
     "text": [
      "/home/b0990106x/miniconda3/envs/textrl/lib/python3.9/site-packages/torch/nn/utils/weight_norm.py:28: UserWarning: torch.nn.utils.weight_norm is deprecated in favor of torch.nn.utils.parametrizations.weight_norm.\n",
      "  warnings.warn(\"torch.nn.utils.weight_norm is deprecated in favor of torch.nn.utils.parametrizations.weight_norm.\")\n"
     ]
    },
    {
     "name": "stdout",
     "output_type": "stream",
     "text": [
      "Episode Counter:  0\n"
     ]
    }
   ],
   "source": [
    "env = MyRLEnv(ar_model, ar_tokenizer, nar_model, nar_tokenizer, observation_input=observation_list, compare_sample=1)\n",
    "actor = TextRLActor(env, ar_model, ar_tokenizer)\n",
    "agent = actor.agent_ppo(update_interval=3, minibatch_size=3, epochs=10)"
   ]
  },
  {
   "cell_type": "code",
   "execution_count": 8,
   "metadata": {},
   "outputs": [
    {
     "name": "stdout",
     "output_type": "stream",
     "text": [
      "----------------------------- reset -----------------------------\n",
      "size_of_packed_input:  335\n",
      "output_path_ckpt:  /work/b0990106x/TextRL/output/example_save_1.wav\n",
      "Input IDs shape: torch.Size([1, 335])\n"
     ]
    },
    {
     "name": "stderr",
     "output_type": "stream",
     "text": [
      "/home/b0990106x/miniconda3/envs/textrl/lib/python3.9/site-packages/torch/nn/utils/weight_norm.py:28: UserWarning: torch.nn.utils.weight_norm is deprecated in favor of torch.nn.utils.parametrizations.weight_norm.\n",
      "  warnings.warn(\"torch.nn.utils.weight_norm is deprecated in favor of torch.nn.utils.parametrizations.weight_norm.\")\n"
     ]
    },
    {
     "name": "stdout",
     "output_type": "stream",
     "text": [
      "Episode Counter:  1\n",
      "input_item :  v_tok_835v_tok_835v_tok_798v_tok_585v_tok_550v_tok_535v_tok_535v_tok_737v_tok_737v_tok_377v_tok_556v_tok_601v_tok_787v_tok_8v_tok_99v_tok_411v_tok_411v_tok_378v_tok_937v_tok_378v_tok_937v_tok_804v_tok_838v_tok_890v_tok_934v_tok_47v_tok_438v_tok_438v_tok_731v_tok_738v_tok_133v_tok_709v_tok_479v_tok_479v_tok_479v_tok_151v_tok_940v_tok_502v_tok_906v_tok_407v_tok_645v_tok_70v_tok_208v_tok_537v_tok_537v_tok_1022v_tok_681v_tok_723v_tok_747v_tok_593v_tok_804v_tok_681v_tok_879v_tok_136v_tok_967v_tok_233v_tok_431v_tok_754v_tok_421v_tok_182v_tok_182v_tok_651v_tok_879v_tok_887v_tok_819v_tok_904v_tok_904v_tok_887v_tok_309v_tok_880v_tok_396v_tok_754v_tok_775v_tok_997v_tok_222v_tok_336v_tok_548v_tok_841v_tok_269v_tok_479v_tok_479v_tok_940v_tok_23v_tok_56v_tok_738v_tok_835v_tok_395v_tok_206v_tok_779v_tok_531v_tok_862v_tok_931v_tok_306v_tok_203v_tok_755v_tok_369v_tok_6v_tok_466v_tok_716v_tok_948v_tok_82v_tok_575v_tok_288v_tok_556v_tok_903v_tok_556v_tok_392v_tok_796v_tok_751v_tok_835v_tok_103v_tok_25v_tok_408v_tok_835v_tok_835v_tok_339v_tok_339v_tok_395v_tok_250v_tok_706v_tok_317v_tok_479v_tok_800v_tok_960v_tok_141v_tok_479v_tok_908v_tok_801v_tok_327v_tok_937v_tok_559v_tok_708v_tok_372v_tok_372v_tok_573v_tok_437v_tok_437v_tok_421v_tok_203v_tok_739v_tok_830v_tok_739v_tok_358v_tok_830v_tok_248v_tok_411v_tok_411v_tok_112v_tok_321v_tok_23v_tok_23v_tok_185v_tok_971v_tok_62v_tok_339v_tok_461v_tok_488v_tok_934v_tok_148v_tok_373v_tok_561v_tok_681v_tok_760v_tok_531v_tok_612v_tok_699v_tok_23v_tok_967v_tok_457v_tok_790v_tok_154v_tok_906v_tok_465v_tok_502v_tok_884v_tok_479v_tok_246v_tok_820v_tok_601v_tok_309v_tok_716v_tok_314v_tok_377v_tok_309v_tok_309v_tok_556v_tok_118v_tok_99v_tok_358v_tok_1018v_tok_862v_tok_779v_tok_62v_tok_835v_tok_25v_tok_254v_tok_254v_tok_677v_tok_73v_tok_143v_tok_696v_tok_696v_tok_321v_tok_879v_tok_23v_tok_224v_tok_523v_tok_23v_tok_835v_tok_835v_tok_835v_tok_395v_tok_59v_tok_257v_tok_819v_tok_472v_tok_835v_tok_835v_tok_475v_tok_339v_tok_835v_tok_835v_tok_463v_tok_339v_tok_428v_tok_982v_tok_869v_tok_270v_tok_435v_tok_283v_tok_804v_tok_976v_tok_875v_tok_598v_tok_353v_tok_860v_tok_409v_tok_411v_tok_601v_tok_650v_tok_495v_tok_62v_tok_835v_tok_835v_tok_141v_tok_948v_tok_82v_tok_414v_tok_658v_tok_321v_tok_224v_tok_321v_tok_931v_tok_3v_tok_99v_tok_8v_tok_220v_tok_775v_tok_739v_tok_870v_tok_830v_tok_739v_tok_830v_tok_695v_tok_695v_tok_704v_tok_208v_tok_860v_tok_1001v_tok_982v_tok_240v_tok_593v_tok_830v_tok_411v_tok_63v_tok_855v_tok_1017v_tok_835v_tok_835v_tok_430v_tok_339v_tok_339v_tok_339v_tok_254v_tok_254v_tok_38v_tok_677v_tok_73v_tok_868v_tok_598v_tok_563v_tok_890v_tok_598v_tok_224v_tok_598v_tok_676v_tok_860v_tok_635v_tok_310v_tok_208v_tok_224v_tok_676v_tok_491v_tok_321v_tok_699v_tok_136v_tok_432v_tok_1019v_tok_475v_tok_537v_tok_176v_tok_176v_tok_436v_tok_373v_tok_160v_tok_709v_tok_339v_tok_339v_tok_835v_tok_339v_tok_475v_tok_537v_tok_1017v_tok_835v_tok_738v_tok_835v_tok_835v_tok_408v_tok_339v_tok_835v_tok_940v_tok_550v_tok_535v_tok_634v_tok_313v_tok_737v_tok_377v_tok_878v_tok_601v_tok_787v_tok_812v_tok_99v_tok_411v_tok_886v_tok_378v_tok_937v_tok_787v_tok_937v_tok_804v_tok_701v_tok_890v_tok_934v_tok_438v_tok_438v_tok_438v_tok_635v_tok_738v_tok_133v_tok_395v_tok_479v_tok_479v_tok_388v_tok_151v_tok_940v_tok_465v_tok_906v_tok_407v_tok_813v_tok_70v_tok_208v_tok_25v_tok_537v_tok_1022v_tok_722v_tok_723v_tok_747v_tok_695v_tok_804v_tok_681v_tok_598v_tok_136v_tok_967v_tok_951v_tok_431v_tok_754v_tok_437v_tok_182v_tok_182v_tok_967v_tok_879v_tok_887v_tok_935v_tok_904v_tok_904v_tok_753v_tok_309v_tok_880v_tok_248v_tok_754v_tok_775v_tok_215v_tok_841v_tok_336v_tok_548v_tok_146v_tok_269v_tok_479v_tok_17v_tok_940v_tok_23v_tok_738v_tok_738v_tok_835v_tok_904v_tok_206v_tok_779v_tok_573v_tok_182v_tok_931v_tok_306v_tok_182v_tok_755v_tok_369v_tok_298v_tok_965v_tok_716v_tok_948v_tok_841v_tok_575v_tok_288v_tok_878v_tok_903v_tok_556v_tok_646v_tok_796v_tok_751v_tok_738v_tok_103v_tok_25v_tok_106v_tok_835v_tok_835v_tok_404v_tok_339v_tok_395v_tok_959v_tok_1003v_tok_317v_tok_479v_tok_759v_tok_324v_tok_141v_tok_361v_tok_400v_tok_801v_tok_327v_tok_650v_tok_559v_tok_708v_tok_1008v_tok_372v_tok_573v_tok_926v_tok_437v_tok_421v_tok_358v_tok_739v_tok_830v_tok_775v_tok_358v_tok_830v_tok_739v_tok_411v_tok_411v_tok_679v_tok_321v_tok_23v_tok_565v_tok_185v_tok_971v_tok_835v_tok_339v_tok_461v_tok_438v_tok_934v_tok_148v_tok_676v_tok_561v_tok_681v_tok_926v_tok_531v_tok_612v_tok_224v_tok_23v_tok_967v_tok_136v_tok_790v_tok_154v_tok_540v_tok_465v_tok_502v_tok_141v_tok_479v_tok_246v_tok_601v_tok_601v_tok_309v_tok_309v_tok_314v_tok_377v_tok_903v_tok_309v_tok_556v_tok_376v_tok_99v_tok_99v_tok_1018v_tok_862v_tok_1019v_tok_62v_tok_835v_tok_537v_tok_254v_tok_254v_tok_317v_tok_73v_tok_143v_tok_925v_tok_696v_tok_321v_tok_321v_tok_23v_tok_224v_tok_23v_tok_23v_tok_835v_tok_339v_tok_835v_tok_133v_tok_59v_tok_257v_tok_887v_tok_472v_tok_835v_tok_106v_tok_835v_tok_339v_tok_1017v_tok_835v_tok_339v_tok_106v_tok_428v_tok_982v_tok_989v_tok_270v_tok_435v_tok_965v_tok_804v_tok_976v_tok_1001v_tok_598v_tok_353v_tok_224v_tok_409v_tok_411v_tok_550v_tok_650v_tok_495v_tok_865v_tok_835v_tok_835v_tok_803v_tok_948v_tok_82v_tok_82v_tok_658v_tok_321v_tok_136v_tok_321v_tok_931v_tok_914v_tok_99v_tok_8v_tok_486v_tok_775v_tok_739v_tok_138v_tok_830v_tok_739v_tok_387v_tok_695v_tok_695v_tok_949v_tok_208v_tok_860v_tok_598v_tok_982v_tok_240v_tok_870v_tok_830v_tok_411v_tok_662v_tok_855v_tok_1017v_tok_1017v_tok_835v_tok_430v_tok_835v_tok_339v_tok_395v_tok_254v_tok_254v_tok_488v_tok_677v_tok_73v_tok_687v_tok_598v_tok_563v_tok_424v_tok_598v_tok_945v_tok_598v_tok_676v_tok_224v_tok_635v_tok_310v_tok_224v_tok_224v_tok_676v_tok_875v_tok_321v_tok_699v_tok_491v_tok_432v_tok_1019v_tok_395v_tok_537v_tok_176v_tok_798v_tok_436v_tok_373v_tok_709v_tok_709v_tok_339v_tok_835v_tok_395v_tok_339v_tok_475v_tok_433v_tok_1017v_tok_835v_tok_408v_tok_835\n",
      "predicted_list:  [['v_tok_408', 'v_tok_835', 'v_tok_835', 'v_tok_798', 'v_tok_585', 'v_tok_550', 'v_tok_535', 'v_tok_535', 'v_tok_737', 'v_tok_737', 'v_tok_377', 'v_tok_556', 'v_tok_601', 'v_tok_787', 'v_tok_8', 'v_tok_99', 'v_tok_411', 'v_tok_411', 'v_tok_378', 'v_tok_937', 'v_tok_378', 'v_tok_937', 'v_tok_804', 'v_tok_838', 'v_tok_890', 'v_tok_934', 'v_tok_47', 'v_tok_438', 'v_tok_438', 'v_tok_731', 'v_tok_738', 'v_tok_133', 'v_tok_709', 'v_tok_479', 'v_tok_479', 'v_tok_479', 'v_tok_151', 'v_tok_940', 'v_tok_502', 'v_tok_906', 'v_tok_407', 'v_tok_645', 'v_tok_70', 'v_tok_208', 'v_tok_537', 'v_tok_537', 'v_tok_1022', 'v_tok_681', 'v_tok_723', 'v_tok_747', 'v_tok_593', 'v_tok_804', 'v_tok_681', 'v_tok_879', 'v_tok_136', 'v_tok_967', 'v_tok_233', 'v_tok_431', 'v_tok_754', 'v_tok_421', 'v_tok_182', 'v_tok_182', 'v_tok_651', 'v_tok_879', 'v_tok_887', 'v_tok_819', 'v_tok_904', 'v_tok_904', 'v_tok_887', 'v_tok_309', 'v_tok_880', 'v_tok_396', 'v_tok_754', 'v_tok_775', 'v_tok_997', 'v_tok_222', 'v_tok_336', 'v_tok_548', 'v_tok_841', 'v_tok_269', 'v_tok_479', 'v_tok_479', 'v_tok_940', 'v_tok_23', 'v_tok_56', 'v_tok_738', 'v_tok_835', 'v_tok_395', 'v_tok_206', 'v_tok_779', 'v_tok_531', 'v_tok_862', 'v_tok_931', 'v_tok_306', 'v_tok_203', 'v_tok_755', 'v_tok_369', 'v_tok_6', 'v_tok_466', 'v_tok_716', 'v_tok_948', 'v_tok_82', 'v_tok_575', 'v_tok_288', 'v_tok_556', 'v_tok_903', 'v_tok_556', 'v_tok_392', 'v_tok_796', 'v_tok_751', 'v_tok_835', 'v_tok_103', 'v_tok_25', 'v_tok_408', 'v_tok_835', 'v_tok_835', 'v_tok_339', 'v_tok_339', 'v_tok_395', 'v_tok_250', 'v_tok_706', 'v_tok_317', 'v_tok_479', 'v_tok_800', 'v_tok_960', 'v_tok_141', 'v_tok_479', 'v_tok_908', 'v_tok_801', 'v_tok_327', 'v_tok_937', 'v_tok_559', 'v_tok_708', 'v_tok_372', 'v_tok_372', 'v_tok_573', 'v_tok_437', 'v_tok_437', 'v_tok_421', 'v_tok_203', 'v_tok_739', 'v_tok_830', 'v_tok_739', 'v_tok_358', 'v_tok_830', 'v_tok_248', 'v_tok_411', 'v_tok_411', 'v_tok_112', 'v_tok_321', 'v_tok_23', 'v_tok_23', 'v_tok_185', 'v_tok_971', 'v_tok_62', 'v_tok_339', 'v_tok_461', 'v_tok_488', 'v_tok_934', 'v_tok_148', 'v_tok_373', 'v_tok_561', 'v_tok_681', 'v_tok_760', 'v_tok_531', 'v_tok_612', 'v_tok_699', 'v_tok_23', 'v_tok_967', 'v_tok_457', 'v_tok_790', 'v_tok_154', 'v_tok_906', 'v_tok_465', 'v_tok_502', 'v_tok_884', 'v_tok_479', 'v_tok_246', 'v_tok_820', 'v_tok_601', 'v_tok_309', 'v_tok_716', 'v_tok_314', 'v_tok_377', 'v_tok_309', 'v_tok_309', 'v_tok_556', 'v_tok_118', 'v_tok_99', 'v_tok_358', 'v_tok_1018', 'v_tok_862', 'v_tok_779', 'v_tok_62', 'v_tok_835', 'v_tok_25', 'v_tok_254', 'v_tok_254', 'v_tok_677', 'v_tok_73', 'v_tok_143', 'v_tok_696', 'v_tok_696', 'v_tok_321', 'v_tok_879', 'v_tok_23', 'v_tok_224', 'v_tok_523', 'v_tok_23', 'v_tok_835', 'v_tok_835', 'v_tok_835', 'v_tok_395', 'v_tok_59', 'v_tok_257', 'v_tok_819', 'v_tok_472', 'v_tok_835', 'v_tok_835', 'v_tok_475', 'v_tok_339', 'v_tok_835', 'v_tok_835', 'v_tok_463', 'v_tok_339', 'v_tok_428', 'v_tok_982', 'v_tok_869', 'v_tok_270', 'v_tok_435', 'v_tok_283', 'v_tok_804', 'v_tok_976', 'v_tok_875', 'v_tok_598', 'v_tok_353', 'v_tok_860', 'v_tok_409', 'v_tok_411', 'v_tok_601', 'v_tok_650', 'v_tok_495', 'v_tok_62', 'v_tok_835', 'v_tok_835', 'v_tok_141', 'v_tok_948', 'v_tok_82', 'v_tok_414', 'v_tok_658', 'v_tok_321', 'v_tok_224', 'v_tok_321', 'v_tok_931', 'v_tok_3', 'v_tok_99', 'v_tok_8', 'v_tok_220', 'v_tok_775', 'v_tok_739', 'v_tok_870', 'v_tok_830', 'v_tok_739', 'v_tok_830', 'v_tok_695', 'v_tok_695', 'v_tok_704', 'v_tok_208', 'v_tok_860', 'v_tok_1001', 'v_tok_982', 'v_tok_240', 'v_tok_593', 'v_tok_830', 'v_tok_411', 'v_tok_63', 'v_tok_855', 'v_tok_1017', 'v_tok_835', 'v_tok_835', 'v_tok_430', 'v_tok_339', 'v_tok_339', 'v_tok_339', 'v_tok_254', 'v_tok_254', 'v_tok_38', 'v_tok_677', 'v_tok_73', 'v_tok_868', 'v_tok_598', 'v_tok_563', 'v_tok_890', 'v_tok_598', 'v_tok_224', 'v_tok_598', 'v_tok_676', 'v_tok_860', 'v_tok_635', 'v_tok_310', 'v_tok_208', 'v_tok_224', 'v_tok_676', 'v_tok_491', 'v_tok_321', 'v_tok_699', 'v_tok_136', 'v_tok_432', 'v_tok_1019', 'v_tok_475', 'v_tok_537', 'v_tok_176', 'v_tok_176', 'v_tok_436', 'v_tok_373', 'v_tok_160', 'v_tok_709', 'v_tok_339', 'v_tok_339', 'v_tok_835', 'v_tok_339', 'v_tok_475', 'v_tok_537', 'v_tok_1017', 'v_tok_835', 'v_tok_738', 'v_tok_835', 'v_tok_835', 'v_tok_408', 'v_tok_339', 'v_tok_835', 'v_tok_940', 'v_tok_550', 'v_tok_535', 'v_tok_634', 'v_tok_313', 'v_tok_737', 'v_tok_377', 'v_tok_878', 'v_tok_601', 'v_tok_787', 'v_tok_812', 'v_tok_99', 'v_tok_411', 'v_tok_886', 'v_tok_378', 'v_tok_937', 'v_tok_787', 'v_tok_937', 'v_tok_804', 'v_tok_701', 'v_tok_890', 'v_tok_934', 'v_tok_438', 'v_tok_438', 'v_tok_438', 'v_tok_635', 'v_tok_738', 'v_tok_133', 'v_tok_395', 'v_tok_479', 'v_tok_479', 'v_tok_388', 'v_tok_151', 'v_tok_940', 'v_tok_465', 'v_tok_906', 'v_tok_407', 'v_tok_813', 'v_tok_70', 'v_tok_208', 'v_tok_25', 'v_tok_537', 'v_tok_1022', 'v_tok_722', 'v_tok_723', 'v_tok_747', 'v_tok_695', 'v_tok_804', 'v_tok_681', 'v_tok_598', 'v_tok_136', 'v_tok_967', 'v_tok_951', 'v_tok_431', 'v_tok_754', 'v_tok_437', 'v_tok_182', 'v_tok_182', 'v_tok_967', 'v_tok_879', 'v_tok_887', 'v_tok_935', 'v_tok_904', 'v_tok_904', 'v_tok_753', 'v_tok_309', 'v_tok_880', 'v_tok_248', 'v_tok_754', 'v_tok_775', 'v_tok_215', 'v_tok_841', 'v_tok_336', 'v_tok_548', 'v_tok_146', 'v_tok_269', 'v_tok_479', 'v_tok_17', 'v_tok_940', 'v_tok_23', 'v_tok_738', 'v_tok_738', 'v_tok_835', 'v_tok_904', 'v_tok_206', 'v_tok_779', 'v_tok_573', 'v_tok_182', 'v_tok_931', 'v_tok_306', 'v_tok_182', 'v_tok_755', 'v_tok_369', 'v_tok_298', 'v_tok_965', 'v_tok_716', 'v_tok_948', 'v_tok_841', 'v_tok_575', 'v_tok_288', 'v_tok_878', 'v_tok_903', 'v_tok_556', 'v_tok_646', 'v_tok_796', 'v_tok_751', 'v_tok_738', 'v_tok_103', 'v_tok_25', 'v_tok_106', 'v_tok_835', 'v_tok_835', 'v_tok_404', 'v_tok_339', 'v_tok_395', 'v_tok_959', 'v_tok_1003', 'v_tok_317', 'v_tok_479', 'v_tok_759', 'v_tok_324', 'v_tok_141', 'v_tok_361', 'v_tok_400', 'v_tok_801', 'v_tok_327', 'v_tok_650', 'v_tok_559', 'v_tok_708', 'v_tok_1008', 'v_tok_372', 'v_tok_573', 'v_tok_926', 'v_tok_437', 'v_tok_421', 'v_tok_358', 'v_tok_739', 'v_tok_830', 'v_tok_775', 'v_tok_358', 'v_tok_830', 'v_tok_739', 'v_tok_411', 'v_tok_411', 'v_tok_679', 'v_tok_321', 'v_tok_23', 'v_tok_565', 'v_tok_185', 'v_tok_971', 'v_tok_835', 'v_tok_339', 'v_tok_461', 'v_tok_438', 'v_tok_934', 'v_tok_148', 'v_tok_676', 'v_tok_561', 'v_tok_681', 'v_tok_926', 'v_tok_531', 'v_tok_612', 'v_tok_224', 'v_tok_23', 'v_tok_967', 'v_tok_136', 'v_tok_790', 'v_tok_154', 'v_tok_540', 'v_tok_465', 'v_tok_502', 'v_tok_141', 'v_tok_479', 'v_tok_246', 'v_tok_601', 'v_tok_601', 'v_tok_309', 'v_tok_309', 'v_tok_314', 'v_tok_377', 'v_tok_903', 'v_tok_309', 'v_tok_556', 'v_tok_376', 'v_tok_99', 'v_tok_99', 'v_tok_1018', 'v_tok_862', 'v_tok_1019', 'v_tok_62', 'v_tok_835', 'v_tok_537', 'v_tok_254', 'v_tok_254', 'v_tok_317', 'v_tok_73', 'v_tok_143', 'v_tok_925', 'v_tok_696', 'v_tok_321', 'v_tok_321', 'v_tok_23', 'v_tok_224', 'v_tok_23', 'v_tok_23', 'v_tok_835', 'v_tok_339', 'v_tok_835', 'v_tok_133', 'v_tok_59', 'v_tok_257', 'v_tok_887', 'v_tok_472', 'v_tok_835', 'v_tok_106', 'v_tok_835', 'v_tok_339', 'v_tok_1017', 'v_tok_835', 'v_tok_339', 'v_tok_106', 'v_tok_428', 'v_tok_982', 'v_tok_989', 'v_tok_270', 'v_tok_435', 'v_tok_965', 'v_tok_804', 'v_tok_976', 'v_tok_1001', 'v_tok_598', 'v_tok_353', 'v_tok_224', 'v_tok_409', 'v_tok_411', 'v_tok_550', 'v_tok_650', 'v_tok_495', 'v_tok_865', 'v_tok_835', 'v_tok_835', 'v_tok_803', 'v_tok_948', 'v_tok_82', 'v_tok_82', 'v_tok_658', 'v_tok_321', 'v_tok_136', 'v_tok_321', 'v_tok_931', 'v_tok_914', 'v_tok_99', 'v_tok_8', 'v_tok_486', 'v_tok_775', 'v_tok_739', 'v_tok_138', 'v_tok_830', 'v_tok_739', 'v_tok_387', 'v_tok_695', 'v_tok_695', 'v_tok_949', 'v_tok_208', 'v_tok_860', 'v_tok_598', 'v_tok_982', 'v_tok_240', 'v_tok_870', 'v_tok_830', 'v_tok_411', 'v_tok_662', 'v_tok_855', 'v_tok_1017', 'v_tok_1017', 'v_tok_835', 'v_tok_430', 'v_tok_835', 'v_tok_339', 'v_tok_395', 'v_tok_254', 'v_tok_254', 'v_tok_488', 'v_tok_677', 'v_tok_73', 'v_tok_687', 'v_tok_598', 'v_tok_563', 'v_tok_424', 'v_tok_598', 'v_tok_945', 'v_tok_598', 'v_tok_676', 'v_tok_224', 'v_tok_635', 'v_tok_310', 'v_tok_224', 'v_tok_224', 'v_tok_676', 'v_tok_875', 'v_tok_321', 'v_tok_699', 'v_tok_491', 'v_tok_432', 'v_tok_1019', 'v_tok_395', 'v_tok_537', 'v_tok_176', 'v_tok_798', 'v_tok_436', 'v_tok_373', 'v_tok_709', 'v_tok_709', 'v_tok_339', 'v_tok_835', 'v_tok_395', 'v_tok_339', 'v_tok_475', 'v_tok_433', 'v_tok_1017', 'v_tok_835', 'v_tok_408', 'v_tok_835', '</s>']]\n",
      "reward:  2.408203125\n"
     ]
    },
    {
     "name": "stderr",
     "output_type": "stream",
     "text": [
      "/home/b0990106x/miniconda3/envs/textrl/lib/python3.9/site-packages/librosa/filters.py:238: UserWarning: Empty filters detected in mel frequency basis. Some channels will produce empty responses. Try increasing your sampling rate (and fmax) or reducing n_mels.\n",
      "  warnings.warn(\n"
     ]
    },
    {
     "data": {
      "text/plain": [
       "['v_tok_408v_tok_835v_tok_835v_tok_798v_tok_585v_tok_550v_tok_535v_tok_535v_tok_737v_tok_737v_tok_377v_tok_556v_tok_601v_tok_787v_tok_8v_tok_99v_tok_411v_tok_411v_tok_378v_tok_937v_tok_378v_tok_937v_tok_804v_tok_838v_tok_890v_tok_934v_tok_47v_tok_438v_tok_438v_tok_731v_tok_738v_tok_133v_tok_709v_tok_479v_tok_479v_tok_479v_tok_151v_tok_940v_tok_502v_tok_906v_tok_407v_tok_645v_tok_70v_tok_208v_tok_537v_tok_537v_tok_1022v_tok_681v_tok_723v_tok_747v_tok_593v_tok_804v_tok_681v_tok_879v_tok_136v_tok_967v_tok_233v_tok_431v_tok_754v_tok_421v_tok_182v_tok_182v_tok_651v_tok_879v_tok_887v_tok_819v_tok_904v_tok_904v_tok_887v_tok_309v_tok_880v_tok_396v_tok_754v_tok_775v_tok_997v_tok_222v_tok_336v_tok_548v_tok_841v_tok_269v_tok_479v_tok_479v_tok_940v_tok_23v_tok_56v_tok_738v_tok_835v_tok_395v_tok_206v_tok_779v_tok_531v_tok_862v_tok_931v_tok_306v_tok_203v_tok_755v_tok_369v_tok_6v_tok_466v_tok_716v_tok_948v_tok_82v_tok_575v_tok_288v_tok_556v_tok_903v_tok_556v_tok_392v_tok_796v_tok_751v_tok_835v_tok_103v_tok_25v_tok_408v_tok_835v_tok_835v_tok_339v_tok_339v_tok_395v_tok_250v_tok_706v_tok_317v_tok_479v_tok_800v_tok_960v_tok_141v_tok_479v_tok_908v_tok_801v_tok_327v_tok_937v_tok_559v_tok_708v_tok_372v_tok_372v_tok_573v_tok_437v_tok_437v_tok_421v_tok_203v_tok_739v_tok_830v_tok_739v_tok_358v_tok_830v_tok_248v_tok_411v_tok_411v_tok_112v_tok_321v_tok_23v_tok_23v_tok_185v_tok_971v_tok_62v_tok_339v_tok_461v_tok_488v_tok_934v_tok_148v_tok_373v_tok_561v_tok_681v_tok_760v_tok_531v_tok_612v_tok_699v_tok_23v_tok_967v_tok_457v_tok_790v_tok_154v_tok_906v_tok_465v_tok_502v_tok_884v_tok_479v_tok_246v_tok_820v_tok_601v_tok_309v_tok_716v_tok_314v_tok_377v_tok_309v_tok_309v_tok_556v_tok_118v_tok_99v_tok_358v_tok_1018v_tok_862v_tok_779v_tok_62v_tok_835v_tok_25v_tok_254v_tok_254v_tok_677v_tok_73v_tok_143v_tok_696v_tok_696v_tok_321v_tok_879v_tok_23v_tok_224v_tok_523v_tok_23v_tok_835v_tok_835v_tok_835v_tok_395v_tok_59v_tok_257v_tok_819v_tok_472v_tok_835v_tok_835v_tok_475v_tok_339v_tok_835v_tok_835v_tok_463v_tok_339v_tok_428v_tok_982v_tok_869v_tok_270v_tok_435v_tok_283v_tok_804v_tok_976v_tok_875v_tok_598v_tok_353v_tok_860v_tok_409v_tok_411v_tok_601v_tok_650v_tok_495v_tok_62v_tok_835v_tok_835v_tok_141v_tok_948v_tok_82v_tok_414v_tok_658v_tok_321v_tok_224v_tok_321v_tok_931v_tok_3v_tok_99v_tok_8v_tok_220v_tok_775v_tok_739v_tok_870v_tok_830v_tok_739v_tok_830v_tok_695v_tok_695v_tok_704v_tok_208v_tok_860v_tok_1001v_tok_982v_tok_240v_tok_593v_tok_830v_tok_411v_tok_63v_tok_855v_tok_1017v_tok_835v_tok_835v_tok_430v_tok_339v_tok_339v_tok_339v_tok_254v_tok_254v_tok_38v_tok_677v_tok_73v_tok_868v_tok_598v_tok_563v_tok_890v_tok_598v_tok_224v_tok_598v_tok_676v_tok_860v_tok_635v_tok_310v_tok_208v_tok_224v_tok_676v_tok_491v_tok_321v_tok_699v_tok_136v_tok_432v_tok_1019v_tok_475v_tok_537v_tok_176v_tok_176v_tok_436v_tok_373v_tok_160v_tok_709v_tok_339v_tok_339v_tok_835v_tok_339v_tok_475v_tok_537v_tok_1017v_tok_835v_tok_738v_tok_835v_tok_835v_tok_408v_tok_339v_tok_835v_tok_940v_tok_550v_tok_535v_tok_634v_tok_313v_tok_737v_tok_377v_tok_878v_tok_601v_tok_787v_tok_812v_tok_99v_tok_411v_tok_886v_tok_378v_tok_937v_tok_787v_tok_937v_tok_804v_tok_701v_tok_890v_tok_934v_tok_438v_tok_438v_tok_438v_tok_635v_tok_738v_tok_133v_tok_395v_tok_479v_tok_479v_tok_388v_tok_151v_tok_940v_tok_465v_tok_906v_tok_407v_tok_813v_tok_70v_tok_208v_tok_25v_tok_537v_tok_1022v_tok_722v_tok_723v_tok_747v_tok_695v_tok_804v_tok_681v_tok_598v_tok_136v_tok_967v_tok_951v_tok_431v_tok_754v_tok_437v_tok_182v_tok_182v_tok_967v_tok_879v_tok_887v_tok_935v_tok_904v_tok_904v_tok_753v_tok_309v_tok_880v_tok_248v_tok_754v_tok_775v_tok_215v_tok_841v_tok_336v_tok_548v_tok_146v_tok_269v_tok_479v_tok_17v_tok_940v_tok_23v_tok_738v_tok_738v_tok_835v_tok_904v_tok_206v_tok_779v_tok_573v_tok_182v_tok_931v_tok_306v_tok_182v_tok_755v_tok_369v_tok_298v_tok_965v_tok_716v_tok_948v_tok_841v_tok_575v_tok_288v_tok_878v_tok_903v_tok_556v_tok_646v_tok_796v_tok_751v_tok_738v_tok_103v_tok_25v_tok_106v_tok_835v_tok_835v_tok_404v_tok_339v_tok_395v_tok_959v_tok_1003v_tok_317v_tok_479v_tok_759v_tok_324v_tok_141v_tok_361v_tok_400v_tok_801v_tok_327v_tok_650v_tok_559v_tok_708v_tok_1008v_tok_372v_tok_573v_tok_926v_tok_437v_tok_421v_tok_358v_tok_739v_tok_830v_tok_775v_tok_358v_tok_830v_tok_739v_tok_411v_tok_411v_tok_679v_tok_321v_tok_23v_tok_565v_tok_185v_tok_971v_tok_835v_tok_339v_tok_461v_tok_438v_tok_934v_tok_148v_tok_676v_tok_561v_tok_681v_tok_926v_tok_531v_tok_612v_tok_224v_tok_23v_tok_967v_tok_136v_tok_790v_tok_154v_tok_540v_tok_465v_tok_502v_tok_141v_tok_479v_tok_246v_tok_601v_tok_601v_tok_309v_tok_309v_tok_314v_tok_377v_tok_903v_tok_309v_tok_556v_tok_376v_tok_99v_tok_99v_tok_1018v_tok_862v_tok_1019v_tok_62v_tok_835v_tok_537v_tok_254v_tok_254v_tok_317v_tok_73v_tok_143v_tok_925v_tok_696v_tok_321v_tok_321v_tok_23v_tok_224v_tok_23v_tok_23v_tok_835v_tok_339v_tok_835v_tok_133v_tok_59v_tok_257v_tok_887v_tok_472v_tok_835v_tok_106v_tok_835v_tok_339v_tok_1017v_tok_835v_tok_339v_tok_106v_tok_428v_tok_982v_tok_989v_tok_270v_tok_435v_tok_965v_tok_804v_tok_976v_tok_1001v_tok_598v_tok_353v_tok_224v_tok_409v_tok_411v_tok_550v_tok_650v_tok_495v_tok_865v_tok_835v_tok_835v_tok_803v_tok_948v_tok_82v_tok_82v_tok_658v_tok_321v_tok_136v_tok_321v_tok_931v_tok_914v_tok_99v_tok_8v_tok_486v_tok_775v_tok_739v_tok_138v_tok_830v_tok_739v_tok_387v_tok_695v_tok_695v_tok_949v_tok_208v_tok_860v_tok_598v_tok_982v_tok_240v_tok_870v_tok_830v_tok_411v_tok_662v_tok_855v_tok_1017v_tok_1017v_tok_835v_tok_430v_tok_835v_tok_339v_tok_395v_tok_254v_tok_254v_tok_488v_tok_677v_tok_73v_tok_687v_tok_598v_tok_563v_tok_424v_tok_598v_tok_945v_tok_598v_tok_676v_tok_224v_tok_635v_tok_310v_tok_224v_tok_224v_tok_676v_tok_875v_tok_321v_tok_699v_tok_491v_tok_432v_tok_1019v_tok_395v_tok_537v_tok_176v_tok_798v_tok_436v_tok_373v_tok_709v_tok_709v_tok_339v_tok_835v_tok_395v_tok_339v_tok_475v_tok_433v_tok_1017v_tok_835v_tok_408v_tok_835</s>']"
      ]
     },
     "execution_count": 8,
     "metadata": {},
     "output_type": "execute_result"
    }
   ],
   "source": [
    "actor.predict(observation_list[0])"
   ]
  },
  {
   "cell_type": "code",
   "execution_count": 9,
   "metadata": {
    "colab": {
     "base_uri": "https://localhost:8080/"
    },
    "id": "FBysk9MiHR2D",
    "outputId": "4086dcd7-6d19-44bc-e1b0-fa764f873301",
    "pycharm": {
     "is_executing": true
    }
   },
   "outputs": [
    {
     "name": "stdout",
     "output_type": "stream",
     "text": [
      "Resetting the environment:\n",
      "Training start:\n"
     ]
    },
    {
     "name": "stderr",
     "output_type": "stream",
     "text": [
      "/home/b0990106x/miniconda3/envs/textrl/lib/python3.9/site-packages/pfrl/agents/ppo.py:132: UserWarning: Creating a tensor from a list of numpy.ndarrays is extremely slow. Please consider converting the list to a single numpy.ndarray with numpy.array() before converting to a tensor. (Triggered internally at ../torch/csrc/utils/tensor_new.cpp:275.)\n",
      "  actions = torch.tensor([b[\"action\"] for b in dataset], device=device)\n"
     ]
    },
    {
     "name": "stdout",
     "output_type": "stream",
     "text": [
      "Train - outdir:train_steps_1100 step:202 episode:0 R:2.5893542766571045\n",
      "statistics:[('average_value', 0.024952846), ('average_entropy', 0.24391486), ('average_value_loss', 0.03236089914687909), ('average_policy_loss', -3.4665893433594166e-10), ('n_updates', 670), ('explained_variance', -144.21032811221025)]\n",
      "evaluation episode 0 length:647 R:1.9931236505508423\n",
      "evaluation episode 1 length:92 R:2.043978452682495\n",
      "evaluation episode 2 length:336 R:1.9852625131607056\n",
      "evaluation episode 3 length:338 R:2.1231095790863037\n",
      "evaluation episode 4 length:184 R:2.7214086055755615\n",
      "evaluation episode 5 length:413 R:2.3125948905944824\n",
      "The best score is updated -3.4028235e+38 -> 2.196579615275065\n",
      "Saved the agent to train_steps_1100/best\n",
      "Evaluation - Evaluating agent at step 202, episode 1\n",
      "Train - outdir:train_steps_1100 step:507 episode:1 R:1.6393355131149292\n",
      "statistics:[('average_value', -0.07983082), ('average_entropy', 0.27021095), ('average_value_loss', 0.3697762148547918), ('average_policy_loss', 1.1046313680207476e-07), ('n_updates', 1690), ('explained_variance', 0.4510607503681694)]\n",
      "evaluation episode 0 length:94 R:2.629279375076294\n",
      "evaluation episode 1 length:810 R:2.360194206237793\n",
      "evaluation episode 2 length:38 R:1.6728383302688599\n"
     ]
    },
    {
     "name": "stderr",
     "output_type": "stream",
     "text": [
      "/home/b0990106x/miniconda3/envs/textrl/lib/python3.9/site-packages/librosa/core/spectrum.py:222: UserWarning: n_fft=4096 is too small for input signal of length=3520\n",
      "  warnings.warn(\n"
     ]
    },
    {
     "name": "stdout",
     "output_type": "stream",
     "text": [
      "evaluation episode 3 length:94 R:3.23932147026062\n",
      "evaluation episode 4 length:305 R:1.5713354349136353\n",
      "evaluation episode 5 length:336 R:1.9386097192764282\n",
      "The best score is updated 2.196579615275065 -> 2.2352630893389382\n",
      "Saved the agent to train_steps_1100/best\n",
      "Evaluation - Evaluating agent at step 507, episode 2\n",
      "Train - outdir:train_steps_1100 step:1100 episode:2 R:0\n",
      "statistics:[('average_value', -0.06612169), ('average_entropy', 0.19046488), ('average_value_loss', 0.0588711621100083), ('average_policy_loss', -5.453825132839541e-08), ('n_updates', 3660), ('explained_variance', -566.5046935767299)]\n",
      "evaluation episode 0 length:109 R:1.429401159286499\n",
      "evaluation episode 1 length:132 R:2.8823482990264893\n",
      "evaluation episode 2 length:116 R:1.6900497674942017\n",
      "evaluation episode 3 length:306 R:1.3636900186538696\n",
      "evaluation episode 4 length:344 R:1.714331865310669\n",
      "evaluation episode 5 length:414 R:2.148758888244629\n",
      "Evaluation - Evaluating agent at step 1100, episode 3\n",
      "Saved the agent to train_steps_1100/1100_finish\n",
      "Output has been written to log.txt\n"
     ]
    }
   ],
   "source": [
    "import sys\n",
    "\n",
    "output_file_path = 'log.txt'\n",
    "\n",
    "with open(output_file_path, 'w') as f:\n",
    "    original_stdout = sys.stdout\n",
    "    sys.stdout = f\n",
    "\n",
    "    pfrl_outdir = 'train_steps_1100'\n",
    "    # pfrl.experiments.train_agent_with_evaluation(\n",
    "    #     agent,\n",
    "    #     env,\n",
    "    #     steps=900, # train the agent for n steps\n",
    "    #     eval_n_steps=None, \n",
    "    #     eval_n_episodes=3, # evaluate n episodes per evaluation\n",
    "    #     train_max_episode_len=1000,  \n",
    "    #     eval_interval=300, # evaluation every n steps (not episodes)\n",
    "    #     outdir=pfrl_outdir, \n",
    "    # )\n",
    "    pfrl.experiments.train_agent_with_evaluation(\n",
    "        agent,\n",
    "        env,\n",
    "        steps=1100,  \n",
    "        eval_n_steps=None, \n",
    "        eval_n_episodes=6, \n",
    "        train_max_episode_len=1000,  \n",
    "        eval_interval=3, \n",
    "        outdir=pfrl_outdir, \n",
    "    )\n",
    "\n",
    "    sys.stdout = original_stdout\n",
    "\n",
    "# pfrl_outdir = 'train_steps_900'\n",
    "# pfrl.experiments.train_agent_with_evaluation(\n",
    "#         agent,\n",
    "#         env,\n",
    "#         steps=900, # train the agent for n steps\n",
    "#         eval_n_steps=None, \n",
    "#         eval_n_episodes=3, # evaluate n episodes per evaluation\n",
    "#         train_max_episode_len=1000,\n",
    "#         eval_interval=300, # evaluation every n steps (not episodes)\n",
    "#         outdir=pfrl_outdir, \n",
    "#     )\n",
    "\n",
    "print('Output has been written to', output_file_path)\n"
   ]
  },
  {
   "cell_type": "markdown",
   "metadata": {
    "id": "9B7rMPRU5zsM"
   },
   "source": [
    "loading the best result and predict."
   ]
  },
  {
   "cell_type": "markdown",
   "metadata": {},
   "source": []
  },
  {
   "cell_type": "code",
   "execution_count": 10,
   "metadata": {
    "id": "FrkYGPjYTIcS"
   },
   "outputs": [],
   "source": [
    "agent.load(pfrl_outdir + '/best')"
   ]
  },
  {
   "cell_type": "code",
   "execution_count": 11,
   "metadata": {
    "colab": {
     "base_uri": "https://localhost:8080/"
    },
    "id": "dpAwe42ES-5w",
    "outputId": "bb12c0d2-1916-4076-8f98-b20d2a2e4e57"
   },
   "outputs": [
    {
     "name": "stdout",
     "output_type": "stream",
     "text": [
      "----------------------------- reset -----------------------------\n",
      "size_of_packed_input:  335\n",
      "output_path_ckpt:  /work/b0990106x/TextRL/output/example_save_23.wav\n",
      "Input IDs shape: torch.Size([1, 335])\n",
      "Episode Counter:  23\n",
      "input_item :  v_tok_835v_tok_835v_tok_798v_tok_585v_tok_550v_tok_535v_tok_535v_tok_737v_tok_737v_tok_377v_tok_556v_tok_601v_tok_787v_tok_8v_tok_99v_tok_411v_tok_411v_tok_378v_tok_937v_tok_378v_tok_937v_tok_804v_tok_838v_tok_890v_tok_934v_tok_47v_tok_438v_tok_438v_tok_731v_tok_738v_tok_133v_tok_709v_tok_479v_tok_479v_tok_479v_tok_151v_tok_940v_tok_502v_tok_906v_tok_407v_tok_645v_tok_70v_tok_208v_tok_537v_tok_537v_tok_1022v_tok_681v_tok_723v_tok_747v_tok_593v_tok_804v_tok_681v_tok_879v_tok_136v_tok_967v_tok_233v_tok_431v_tok_754v_tok_421v_tok_182v_tok_182v_tok_651v_tok_879v_tok_887v_tok_819v_tok_904v_tok_904v_tok_887v_tok_309v_tok_880v_tok_396v_tok_754v_tok_775v_tok_997v_tok_222v_tok_336v_tok_548v_tok_841v_tok_269v_tok_479v_tok_479v_tok_940v_tok_23v_tok_56v_tok_738v_tok_835v_tok_395v_tok_206v_tok_779v_tok_531v_tok_862v_tok_931v_tok_306v_tok_203v_tok_755v_tok_369v_tok_6v_tok_466v_tok_716v_tok_948v_tok_82v_tok_575v_tok_288v_tok_556v_tok_903v_tok_556v_tok_392v_tok_796v_tok_751v_tok_835v_tok_103v_tok_25v_tok_408v_tok_835v_tok_835v_tok_339v_tok_339v_tok_395v_tok_250v_tok_706v_tok_317v_tok_479v_tok_800v_tok_960v_tok_141v_tok_479v_tok_908v_tok_801v_tok_327v_tok_937v_tok_559v_tok_708v_tok_372v_tok_372v_tok_573v_tok_437v_tok_437v_tok_421v_tok_203v_tok_739v_tok_830v_tok_739v_tok_358v_tok_830v_tok_248v_tok_411v_tok_411v_tok_112v_tok_321v_tok_23v_tok_23v_tok_185v_tok_971v_tok_62v_tok_339v_tok_461v_tok_488v_tok_934v_tok_148v_tok_373v_tok_561v_tok_681v_tok_760v_tok_531v_tok_612v_tok_699v_tok_23v_tok_967v_tok_457v_tok_790v_tok_154v_tok_906v_tok_465v_tok_502v_tok_884v_tok_479v_tok_246v_tok_820v_tok_601v_tok_309v_tok_716v_tok_314v_tok_377v_tok_309v_tok_309v_tok_556v_tok_118v_tok_99v_tok_358v_tok_1018v_tok_862v_tok_779v_tok_62v_tok_835v_tok_25v_tok_254v_tok_254v_tok_677v_tok_73v_tok_143v_tok_696v_tok_696v_tok_321v_tok_879v_tok_23v_tok_224v_tok_523v_tok_23v_tok_835v_tok_835v_tok_835v_tok_395v_tok_59v_tok_257v_tok_819v_tok_472v_tok_835v_tok_835v_tok_876v_tok_339v_tok_835v_tok_835v_tok_475v_tok_339v_tok_428v_tok_982v_tok_869v_tok_270v_tok_435v_tok_283v_tok_804v_tok_976v_tok_875v_tok_598v_tok_353v_tok_860v_tok_409v_tok_411v_tok_601v_tok_650v_tok_495v_tok_62v_tok_835v_tok_835v_tok_141v_tok_948v_tok_82v_tok_414v_tok_658v_tok_321v_tok_224v_tok_321v_tok_931v_tok_3v_tok_99v_tok_8v_tok_220v_tok_775v_tok_739v_tok_870v_tok_830v_tok_739v_tok_830v_tok_695v_tok_695v_tok_704v_tok_208v_tok_860v_tok_1001v_tok_982v_tok_240v_tok_593v_tok_830v_tok_411v_tok_63v_tok_855v_tok_1017v_tok_835v_tok_835v_tok_430v_tok_339v_tok_339v_tok_339v_tok_254v_tok_254v_tok_38v_tok_677v_tok_73v_tok_868v_tok_598v_tok_563v_tok_890v_tok_598v_tok_224v_tok_598v_tok_676v_tok_860v_tok_635v_tok_310v_tok_208v_tok_224v_tok_676v_tok_491v_tok_321v_tok_699v_tok_136v_tok_432v_tok_1019v_tok_475v_tok_537v_tok_176v_tok_176v_tok_436v_tok_373v_tok_160v_tok_709v_tok_339v_tok_339v_tok_835v_tok_339v_tok_475v_tok_537v_tok_1017v_tok_835v_tok_738v_tok_408v_tok_133v_tok_835v_tok_835v_tok_676v_tok_800v_tok_550v_tok_535v_tok_550v_tok_377v_tok_737v_tok_377v_tok_453v_tok_601v_tok_787v_tok_903v_tok_99v_tok_411v_tok_413v_tok_74v_tok_937v_tok_378v_tok_914v_tok_378v_tok_838v_tok_945v_tok_934v_tok_438v_tok_438v_tok_438v_tok_461v_tok_738v_tok_133v_tok_395v_tok_479v_tok_479v_tok_206v_tok_151v_tok_940v_tok_940v_tok_317v_tok_407v_tok_645v_tok_424v_tok_208v_tok_537v_tok_395v_tok_1022v_tok_681v_tok_808v_tok_747v_tok_593v_tok_612v_tok_681v_tok_432v_tok_136v_tok_967v_tok_601v_tok_431v_tok_754v_tok_754v_tok_182v_tok_182v_tok_967v_tok_879v_tok_887v_tok_629v_tok_904v_tok_904v_tok_935v_tok_309v_tok_880v_tok_434v_tok_754v_tok_775v_tok_739v_tok_222v_tok_336v_tok_841v_tok_841v_tok_269v_tok_954v_tok_479v_tok_940v_tok_192v_tok_56v_tok_738v_tok_408v_tok_395v_tok_206v_tok_475v_tok_531v_tok_862v_tok_722v_tok_306v_tok_203v_tok_288v_tok_369v_tok_6v_tok_841v_tok_716v_tok_948v_tok_369v_tok_503v_tok_288v_tok_556v_tok_697v_tok_556v_tok_392v_tok_683v_tok_751v_tok_835v_tok_38v_tok_25v_tok_408v_tok_133v_tok_133v_tok_339v_tok_339v_tok_25v_tok_250v_tok_706v_tok_940v_tok_479v_tok_800v_tok_801v_tok_141v_tok_141v_tok_908v_tok_801v_tok_400v_tok_937v_tok_559v_tok_335v_tok_372v_tok_372v_tok_213v_tok_437v_tok_437v_tok_437v_tok_203v_tok_739v_tok_280v_tok_118v_tok_739v_tok_830v_tok_248v_tok_754v_tok_411v_tok_112v_tok_651v_tok_23v_tok_23v_tok_650v_tok_971v_tok_62v_tok_395v_tok_461v_tok_488v_tok_821v_tok_148v_tok_373v_tok_651v_tok_681v_tok_760v_tok_701v_tok_612v_tok_699v_tok_1022v_tok_967v_tok_457v_tok_154v_tok_407v_tok_906v_tok_465v_tok_1000v_tok_884v_tok_479v_tok_820v_tok_820v_tok_820v_tok_309v_tok_737v_tok_314v_tok_377v_tok_737v_tok_716v_tok_556v_tok_118v_tok_646v_tok_358v_tok_1018v_tok_858v_tok_779v_tok_62v_tok_855v_tok_25v_tok_254v_tok_170v_tok_677v_tok_73v_tok_722v_tok_696v_tok_696v_tok_875v_tok_879v_tok_23v_tok_276v_tok_457v_tok_23v_tok_835v_tok_1019v_tok_835v_tok_339v_tok_59v_tok_257v_tok_887v_tok_472v_tok_835v_tok_876v_tok_835v_tok_339v_tok_835v_tok_1019v_tok_339v_tok_339v_tok_428v_tok_457v_tok_869v_tok_270v_tok_754v_tok_283v_tok_804v_tok_1010v_tok_875v_tok_598v_tok_1001v_tok_860v_tok_409v_tok_948v_tok_601v_tok_283v_tok_495v_tok_62v_tok_738v_tok_835v_tok_141v_tok_812v_tok_82v_tok_414v_tok_784v_tok_321v_tok_224v_tok_890v_tok_931v_tok_3v_tok_556v_tok_8v_tok_220v_tok_284v_tok_739v_tok_870v_tok_387v_tok_739v_tok_830v_tok_870v_tok_695v_tok_949v_tok_321v_tok_860v_tok_1001v_tok_645v_tok_240v_tok_593v_tok_961v_tok_411v_tok_63v_tok_106v_tok_432v_tok_835v_tok_835v_tok_1019v_tok_395v_tok_339v_tok_339v_tok_170v_tok_254v_tok_38v_tok_23v_tok_73v_tok_312v_tok_598v_tok_563v_tok_690v_tok_598v_tok_224v_tok_676v_tok_676v_tok_860v_tok_321v_tok_310v_tok_208v_tok_699v_tok_676v_tok_491v_tok_875v_tok_699v_tok_136v_tok_491v_tok_1019v_tok_475v_tok_819v_tok_176v_tok_373v_tok_436v_tok_373v_tok_103v_tok_819v_tok_339v_tok_339v_tok_709v_tok_339v_tok_475v_tok_779v_tok_1017v_tok_835v_tok_475v_tok_835\n",
      "predicted_list:  [['v_tok_408', 'v_tok_835', 'v_tok_835', 'v_tok_798', 'v_tok_585', 'v_tok_550', 'v_tok_535', 'v_tok_535', 'v_tok_737', 'v_tok_737', 'v_tok_377', 'v_tok_556', 'v_tok_601', 'v_tok_787', 'v_tok_8', 'v_tok_99', 'v_tok_411', 'v_tok_411', 'v_tok_378', 'v_tok_937', 'v_tok_378', 'v_tok_937', 'v_tok_804', 'v_tok_838', 'v_tok_890', 'v_tok_934', 'v_tok_47', 'v_tok_438', 'v_tok_438', 'v_tok_731', 'v_tok_738', 'v_tok_133', 'v_tok_709', 'v_tok_479', 'v_tok_479', 'v_tok_479', 'v_tok_151', 'v_tok_940', 'v_tok_502', 'v_tok_906', 'v_tok_407', 'v_tok_645', 'v_tok_70', 'v_tok_208', 'v_tok_537', 'v_tok_537', 'v_tok_1022', 'v_tok_681', 'v_tok_723', 'v_tok_747', 'v_tok_593', 'v_tok_804', 'v_tok_681', 'v_tok_879', 'v_tok_136', 'v_tok_967', 'v_tok_233', 'v_tok_431', 'v_tok_754', 'v_tok_421', 'v_tok_182', 'v_tok_182', 'v_tok_651', 'v_tok_879', 'v_tok_887', 'v_tok_819', 'v_tok_904', 'v_tok_904', 'v_tok_887', 'v_tok_309', 'v_tok_880', 'v_tok_396', 'v_tok_754', 'v_tok_775', 'v_tok_997', 'v_tok_222', 'v_tok_336', 'v_tok_548', 'v_tok_841', 'v_tok_269', 'v_tok_479', 'v_tok_479', 'v_tok_940', 'v_tok_23', 'v_tok_56', 'v_tok_738', 'v_tok_835', 'v_tok_395', 'v_tok_206', 'v_tok_779', 'v_tok_531', 'v_tok_862', 'v_tok_931', 'v_tok_306', 'v_tok_203', 'v_tok_755', 'v_tok_369', 'v_tok_6', 'v_tok_466', 'v_tok_716', 'v_tok_948', 'v_tok_82', 'v_tok_575', 'v_tok_288', 'v_tok_556', 'v_tok_903', 'v_tok_556', 'v_tok_392', 'v_tok_796', 'v_tok_751', 'v_tok_835', 'v_tok_103', 'v_tok_25', 'v_tok_408', 'v_tok_835', 'v_tok_835', 'v_tok_339', 'v_tok_339', 'v_tok_395', 'v_tok_250', 'v_tok_706', 'v_tok_317', 'v_tok_479', 'v_tok_800', 'v_tok_960', 'v_tok_141', 'v_tok_479', 'v_tok_908', 'v_tok_801', 'v_tok_327', 'v_tok_937', 'v_tok_559', 'v_tok_708', 'v_tok_372', 'v_tok_372', 'v_tok_573', 'v_tok_437', 'v_tok_437', 'v_tok_421', 'v_tok_203', 'v_tok_739', 'v_tok_830', 'v_tok_739', 'v_tok_358', 'v_tok_830', 'v_tok_248', 'v_tok_411', 'v_tok_411', 'v_tok_112', 'v_tok_321', 'v_tok_23', 'v_tok_23', 'v_tok_185', 'v_tok_971', 'v_tok_62', 'v_tok_339', 'v_tok_461', 'v_tok_488', 'v_tok_934', 'v_tok_148', 'v_tok_373', 'v_tok_561', 'v_tok_681', 'v_tok_760', 'v_tok_531', 'v_tok_612', 'v_tok_699', 'v_tok_23', 'v_tok_967', 'v_tok_457', 'v_tok_790', 'v_tok_154', 'v_tok_906', 'v_tok_465', 'v_tok_502', 'v_tok_884', 'v_tok_479', 'v_tok_246', 'v_tok_820', 'v_tok_601', 'v_tok_309', 'v_tok_716', 'v_tok_314', 'v_tok_377', 'v_tok_309', 'v_tok_309', 'v_tok_556', 'v_tok_118', 'v_tok_99', 'v_tok_358', 'v_tok_1018', 'v_tok_862', 'v_tok_779', 'v_tok_62', 'v_tok_835', 'v_tok_25', 'v_tok_254', 'v_tok_254', 'v_tok_677', 'v_tok_73', 'v_tok_143', 'v_tok_696', 'v_tok_696', 'v_tok_321', 'v_tok_879', 'v_tok_23', 'v_tok_224', 'v_tok_523', 'v_tok_23', 'v_tok_835', 'v_tok_835', 'v_tok_835', 'v_tok_395', 'v_tok_59', 'v_tok_257', 'v_tok_819', 'v_tok_472', 'v_tok_835', 'v_tok_835', 'v_tok_876', 'v_tok_339', 'v_tok_835', 'v_tok_835', 'v_tok_475', 'v_tok_339', 'v_tok_428', 'v_tok_982', 'v_tok_869', 'v_tok_270', 'v_tok_435', 'v_tok_283', 'v_tok_804', 'v_tok_976', 'v_tok_875', 'v_tok_598', 'v_tok_353', 'v_tok_860', 'v_tok_409', 'v_tok_411', 'v_tok_601', 'v_tok_650', 'v_tok_495', 'v_tok_62', 'v_tok_835', 'v_tok_835', 'v_tok_141', 'v_tok_948', 'v_tok_82', 'v_tok_414', 'v_tok_658', 'v_tok_321', 'v_tok_224', 'v_tok_321', 'v_tok_931', 'v_tok_3', 'v_tok_99', 'v_tok_8', 'v_tok_220', 'v_tok_775', 'v_tok_739', 'v_tok_870', 'v_tok_830', 'v_tok_739', 'v_tok_830', 'v_tok_695', 'v_tok_695', 'v_tok_704', 'v_tok_208', 'v_tok_860', 'v_tok_1001', 'v_tok_982', 'v_tok_240', 'v_tok_593', 'v_tok_830', 'v_tok_411', 'v_tok_63', 'v_tok_855', 'v_tok_1017', 'v_tok_835', 'v_tok_835', 'v_tok_430', 'v_tok_339', 'v_tok_339', 'v_tok_339', 'v_tok_254', 'v_tok_254', 'v_tok_38', 'v_tok_677', 'v_tok_73', 'v_tok_868', 'v_tok_598', 'v_tok_563', 'v_tok_890', 'v_tok_598', 'v_tok_224', 'v_tok_598', 'v_tok_676', 'v_tok_860', 'v_tok_635', 'v_tok_310', 'v_tok_208', 'v_tok_224', 'v_tok_676', 'v_tok_491', 'v_tok_321', 'v_tok_699', 'v_tok_136', 'v_tok_432', 'v_tok_1019', 'v_tok_475', 'v_tok_537', 'v_tok_176', 'v_tok_176', 'v_tok_436', 'v_tok_373', 'v_tok_160', 'v_tok_709', 'v_tok_339', 'v_tok_339', 'v_tok_835', 'v_tok_339', 'v_tok_475', 'v_tok_537', 'v_tok_1017', 'v_tok_835', 'v_tok_738', 'v_tok_408', 'v_tok_133', 'v_tok_835', 'v_tok_835', 'v_tok_676', 'v_tok_800', 'v_tok_550', 'v_tok_535', 'v_tok_550', 'v_tok_377', 'v_tok_737', 'v_tok_377', 'v_tok_453', 'v_tok_601', 'v_tok_787', 'v_tok_903', 'v_tok_99', 'v_tok_411', 'v_tok_413', 'v_tok_74', 'v_tok_937', 'v_tok_378', 'v_tok_914', 'v_tok_378', 'v_tok_838', 'v_tok_945', 'v_tok_934', 'v_tok_438', 'v_tok_438', 'v_tok_438', 'v_tok_461', 'v_tok_738', 'v_tok_133', 'v_tok_395', 'v_tok_479', 'v_tok_479', 'v_tok_206', 'v_tok_151', 'v_tok_940', 'v_tok_940', 'v_tok_317', 'v_tok_407', 'v_tok_645', 'v_tok_424', 'v_tok_208', 'v_tok_537', 'v_tok_395', 'v_tok_1022', 'v_tok_681', 'v_tok_808', 'v_tok_747', 'v_tok_593', 'v_tok_612', 'v_tok_681', 'v_tok_432', 'v_tok_136', 'v_tok_967', 'v_tok_601', 'v_tok_431', 'v_tok_754', 'v_tok_754', 'v_tok_182', 'v_tok_182', 'v_tok_967', 'v_tok_879', 'v_tok_887', 'v_tok_629', 'v_tok_904', 'v_tok_904', 'v_tok_935', 'v_tok_309', 'v_tok_880', 'v_tok_434', 'v_tok_754', 'v_tok_775', 'v_tok_739', 'v_tok_222', 'v_tok_336', 'v_tok_841', 'v_tok_841', 'v_tok_269', 'v_tok_954', 'v_tok_479', 'v_tok_940', 'v_tok_192', 'v_tok_56', 'v_tok_738', 'v_tok_408', 'v_tok_395', 'v_tok_206', 'v_tok_475', 'v_tok_531', 'v_tok_862', 'v_tok_722', 'v_tok_306', 'v_tok_203', 'v_tok_288', 'v_tok_369', 'v_tok_6', 'v_tok_841', 'v_tok_716', 'v_tok_948', 'v_tok_369', 'v_tok_503', 'v_tok_288', 'v_tok_556', 'v_tok_697', 'v_tok_556', 'v_tok_392', 'v_tok_683', 'v_tok_751', 'v_tok_835', 'v_tok_38', 'v_tok_25', 'v_tok_408', 'v_tok_133', 'v_tok_133', 'v_tok_339', 'v_tok_339', 'v_tok_25', 'v_tok_250', 'v_tok_706', 'v_tok_940', 'v_tok_479', 'v_tok_800', 'v_tok_801', 'v_tok_141', 'v_tok_141', 'v_tok_908', 'v_tok_801', 'v_tok_400', 'v_tok_937', 'v_tok_559', 'v_tok_335', 'v_tok_372', 'v_tok_372', 'v_tok_213', 'v_tok_437', 'v_tok_437', 'v_tok_437', 'v_tok_203', 'v_tok_739', 'v_tok_280', 'v_tok_118', 'v_tok_739', 'v_tok_830', 'v_tok_248', 'v_tok_754', 'v_tok_411', 'v_tok_112', 'v_tok_651', 'v_tok_23', 'v_tok_23', 'v_tok_650', 'v_tok_971', 'v_tok_62', 'v_tok_395', 'v_tok_461', 'v_tok_488', 'v_tok_821', 'v_tok_148', 'v_tok_373', 'v_tok_651', 'v_tok_681', 'v_tok_760', 'v_tok_701', 'v_tok_612', 'v_tok_699', 'v_tok_1022', 'v_tok_967', 'v_tok_457', 'v_tok_154', 'v_tok_407', 'v_tok_906', 'v_tok_465', 'v_tok_1000', 'v_tok_884', 'v_tok_479', 'v_tok_820', 'v_tok_820', 'v_tok_820', 'v_tok_309', 'v_tok_737', 'v_tok_314', 'v_tok_377', 'v_tok_737', 'v_tok_716', 'v_tok_556', 'v_tok_118', 'v_tok_646', 'v_tok_358', 'v_tok_1018', 'v_tok_858', 'v_tok_779', 'v_tok_62', 'v_tok_855', 'v_tok_25', 'v_tok_254', 'v_tok_170', 'v_tok_677', 'v_tok_73', 'v_tok_722', 'v_tok_696', 'v_tok_696', 'v_tok_875', 'v_tok_879', 'v_tok_23', 'v_tok_276', 'v_tok_457', 'v_tok_23', 'v_tok_835', 'v_tok_1019', 'v_tok_835', 'v_tok_339', 'v_tok_59', 'v_tok_257', 'v_tok_887', 'v_tok_472', 'v_tok_835', 'v_tok_876', 'v_tok_835', 'v_tok_339', 'v_tok_835', 'v_tok_1019', 'v_tok_339', 'v_tok_339', 'v_tok_428', 'v_tok_457', 'v_tok_869', 'v_tok_270', 'v_tok_754', 'v_tok_283', 'v_tok_804', 'v_tok_1010', 'v_tok_875', 'v_tok_598', 'v_tok_1001', 'v_tok_860', 'v_tok_409', 'v_tok_948', 'v_tok_601', 'v_tok_283', 'v_tok_495', 'v_tok_62', 'v_tok_738', 'v_tok_835', 'v_tok_141', 'v_tok_812', 'v_tok_82', 'v_tok_414', 'v_tok_784', 'v_tok_321', 'v_tok_224', 'v_tok_890', 'v_tok_931', 'v_tok_3', 'v_tok_556', 'v_tok_8', 'v_tok_220', 'v_tok_284', 'v_tok_739', 'v_tok_870', 'v_tok_387', 'v_tok_739', 'v_tok_830', 'v_tok_870', 'v_tok_695', 'v_tok_949', 'v_tok_321', 'v_tok_860', 'v_tok_1001', 'v_tok_645', 'v_tok_240', 'v_tok_593', 'v_tok_961', 'v_tok_411', 'v_tok_63', 'v_tok_106', 'v_tok_432', 'v_tok_835', 'v_tok_835', 'v_tok_1019', 'v_tok_395', 'v_tok_339', 'v_tok_339', 'v_tok_170', 'v_tok_254', 'v_tok_38', 'v_tok_23', 'v_tok_73', 'v_tok_312', 'v_tok_598', 'v_tok_563', 'v_tok_690', 'v_tok_598', 'v_tok_224', 'v_tok_676', 'v_tok_676', 'v_tok_860', 'v_tok_321', 'v_tok_310', 'v_tok_208', 'v_tok_699', 'v_tok_676', 'v_tok_491', 'v_tok_875', 'v_tok_699', 'v_tok_136', 'v_tok_491', 'v_tok_1019', 'v_tok_475', 'v_tok_819', 'v_tok_176', 'v_tok_373', 'v_tok_436', 'v_tok_373', 'v_tok_103', 'v_tok_819', 'v_tok_339', 'v_tok_339', 'v_tok_709', 'v_tok_339', 'v_tok_475', 'v_tok_779', 'v_tok_1017', 'v_tok_835', 'v_tok_475', 'v_tok_835', '</s>']]\n",
      "reward:  2.302734375\n"
     ]
    },
    {
     "data": {
      "text/plain": [
       "['v_tok_408v_tok_835v_tok_835v_tok_798v_tok_585v_tok_550v_tok_535v_tok_535v_tok_737v_tok_737v_tok_377v_tok_556v_tok_601v_tok_787v_tok_8v_tok_99v_tok_411v_tok_411v_tok_378v_tok_937v_tok_378v_tok_937v_tok_804v_tok_838v_tok_890v_tok_934v_tok_47v_tok_438v_tok_438v_tok_731v_tok_738v_tok_133v_tok_709v_tok_479v_tok_479v_tok_479v_tok_151v_tok_940v_tok_502v_tok_906v_tok_407v_tok_645v_tok_70v_tok_208v_tok_537v_tok_537v_tok_1022v_tok_681v_tok_723v_tok_747v_tok_593v_tok_804v_tok_681v_tok_879v_tok_136v_tok_967v_tok_233v_tok_431v_tok_754v_tok_421v_tok_182v_tok_182v_tok_651v_tok_879v_tok_887v_tok_819v_tok_904v_tok_904v_tok_887v_tok_309v_tok_880v_tok_396v_tok_754v_tok_775v_tok_997v_tok_222v_tok_336v_tok_548v_tok_841v_tok_269v_tok_479v_tok_479v_tok_940v_tok_23v_tok_56v_tok_738v_tok_835v_tok_395v_tok_206v_tok_779v_tok_531v_tok_862v_tok_931v_tok_306v_tok_203v_tok_755v_tok_369v_tok_6v_tok_466v_tok_716v_tok_948v_tok_82v_tok_575v_tok_288v_tok_556v_tok_903v_tok_556v_tok_392v_tok_796v_tok_751v_tok_835v_tok_103v_tok_25v_tok_408v_tok_835v_tok_835v_tok_339v_tok_339v_tok_395v_tok_250v_tok_706v_tok_317v_tok_479v_tok_800v_tok_960v_tok_141v_tok_479v_tok_908v_tok_801v_tok_327v_tok_937v_tok_559v_tok_708v_tok_372v_tok_372v_tok_573v_tok_437v_tok_437v_tok_421v_tok_203v_tok_739v_tok_830v_tok_739v_tok_358v_tok_830v_tok_248v_tok_411v_tok_411v_tok_112v_tok_321v_tok_23v_tok_23v_tok_185v_tok_971v_tok_62v_tok_339v_tok_461v_tok_488v_tok_934v_tok_148v_tok_373v_tok_561v_tok_681v_tok_760v_tok_531v_tok_612v_tok_699v_tok_23v_tok_967v_tok_457v_tok_790v_tok_154v_tok_906v_tok_465v_tok_502v_tok_884v_tok_479v_tok_246v_tok_820v_tok_601v_tok_309v_tok_716v_tok_314v_tok_377v_tok_309v_tok_309v_tok_556v_tok_118v_tok_99v_tok_358v_tok_1018v_tok_862v_tok_779v_tok_62v_tok_835v_tok_25v_tok_254v_tok_254v_tok_677v_tok_73v_tok_143v_tok_696v_tok_696v_tok_321v_tok_879v_tok_23v_tok_224v_tok_523v_tok_23v_tok_835v_tok_835v_tok_835v_tok_395v_tok_59v_tok_257v_tok_819v_tok_472v_tok_835v_tok_835v_tok_876v_tok_339v_tok_835v_tok_835v_tok_475v_tok_339v_tok_428v_tok_982v_tok_869v_tok_270v_tok_435v_tok_283v_tok_804v_tok_976v_tok_875v_tok_598v_tok_353v_tok_860v_tok_409v_tok_411v_tok_601v_tok_650v_tok_495v_tok_62v_tok_835v_tok_835v_tok_141v_tok_948v_tok_82v_tok_414v_tok_658v_tok_321v_tok_224v_tok_321v_tok_931v_tok_3v_tok_99v_tok_8v_tok_220v_tok_775v_tok_739v_tok_870v_tok_830v_tok_739v_tok_830v_tok_695v_tok_695v_tok_704v_tok_208v_tok_860v_tok_1001v_tok_982v_tok_240v_tok_593v_tok_830v_tok_411v_tok_63v_tok_855v_tok_1017v_tok_835v_tok_835v_tok_430v_tok_339v_tok_339v_tok_339v_tok_254v_tok_254v_tok_38v_tok_677v_tok_73v_tok_868v_tok_598v_tok_563v_tok_890v_tok_598v_tok_224v_tok_598v_tok_676v_tok_860v_tok_635v_tok_310v_tok_208v_tok_224v_tok_676v_tok_491v_tok_321v_tok_699v_tok_136v_tok_432v_tok_1019v_tok_475v_tok_537v_tok_176v_tok_176v_tok_436v_tok_373v_tok_160v_tok_709v_tok_339v_tok_339v_tok_835v_tok_339v_tok_475v_tok_537v_tok_1017v_tok_835v_tok_738v_tok_408v_tok_133v_tok_835v_tok_835v_tok_676v_tok_800v_tok_550v_tok_535v_tok_550v_tok_377v_tok_737v_tok_377v_tok_453v_tok_601v_tok_787v_tok_903v_tok_99v_tok_411v_tok_413v_tok_74v_tok_937v_tok_378v_tok_914v_tok_378v_tok_838v_tok_945v_tok_934v_tok_438v_tok_438v_tok_438v_tok_461v_tok_738v_tok_133v_tok_395v_tok_479v_tok_479v_tok_206v_tok_151v_tok_940v_tok_940v_tok_317v_tok_407v_tok_645v_tok_424v_tok_208v_tok_537v_tok_395v_tok_1022v_tok_681v_tok_808v_tok_747v_tok_593v_tok_612v_tok_681v_tok_432v_tok_136v_tok_967v_tok_601v_tok_431v_tok_754v_tok_754v_tok_182v_tok_182v_tok_967v_tok_879v_tok_887v_tok_629v_tok_904v_tok_904v_tok_935v_tok_309v_tok_880v_tok_434v_tok_754v_tok_775v_tok_739v_tok_222v_tok_336v_tok_841v_tok_841v_tok_269v_tok_954v_tok_479v_tok_940v_tok_192v_tok_56v_tok_738v_tok_408v_tok_395v_tok_206v_tok_475v_tok_531v_tok_862v_tok_722v_tok_306v_tok_203v_tok_288v_tok_369v_tok_6v_tok_841v_tok_716v_tok_948v_tok_369v_tok_503v_tok_288v_tok_556v_tok_697v_tok_556v_tok_392v_tok_683v_tok_751v_tok_835v_tok_38v_tok_25v_tok_408v_tok_133v_tok_133v_tok_339v_tok_339v_tok_25v_tok_250v_tok_706v_tok_940v_tok_479v_tok_800v_tok_801v_tok_141v_tok_141v_tok_908v_tok_801v_tok_400v_tok_937v_tok_559v_tok_335v_tok_372v_tok_372v_tok_213v_tok_437v_tok_437v_tok_437v_tok_203v_tok_739v_tok_280v_tok_118v_tok_739v_tok_830v_tok_248v_tok_754v_tok_411v_tok_112v_tok_651v_tok_23v_tok_23v_tok_650v_tok_971v_tok_62v_tok_395v_tok_461v_tok_488v_tok_821v_tok_148v_tok_373v_tok_651v_tok_681v_tok_760v_tok_701v_tok_612v_tok_699v_tok_1022v_tok_967v_tok_457v_tok_154v_tok_407v_tok_906v_tok_465v_tok_1000v_tok_884v_tok_479v_tok_820v_tok_820v_tok_820v_tok_309v_tok_737v_tok_314v_tok_377v_tok_737v_tok_716v_tok_556v_tok_118v_tok_646v_tok_358v_tok_1018v_tok_858v_tok_779v_tok_62v_tok_855v_tok_25v_tok_254v_tok_170v_tok_677v_tok_73v_tok_722v_tok_696v_tok_696v_tok_875v_tok_879v_tok_23v_tok_276v_tok_457v_tok_23v_tok_835v_tok_1019v_tok_835v_tok_339v_tok_59v_tok_257v_tok_887v_tok_472v_tok_835v_tok_876v_tok_835v_tok_339v_tok_835v_tok_1019v_tok_339v_tok_339v_tok_428v_tok_457v_tok_869v_tok_270v_tok_754v_tok_283v_tok_804v_tok_1010v_tok_875v_tok_598v_tok_1001v_tok_860v_tok_409v_tok_948v_tok_601v_tok_283v_tok_495v_tok_62v_tok_738v_tok_835v_tok_141v_tok_812v_tok_82v_tok_414v_tok_784v_tok_321v_tok_224v_tok_890v_tok_931v_tok_3v_tok_556v_tok_8v_tok_220v_tok_284v_tok_739v_tok_870v_tok_387v_tok_739v_tok_830v_tok_870v_tok_695v_tok_949v_tok_321v_tok_860v_tok_1001v_tok_645v_tok_240v_tok_593v_tok_961v_tok_411v_tok_63v_tok_106v_tok_432v_tok_835v_tok_835v_tok_1019v_tok_395v_tok_339v_tok_339v_tok_170v_tok_254v_tok_38v_tok_23v_tok_73v_tok_312v_tok_598v_tok_563v_tok_690v_tok_598v_tok_224v_tok_676v_tok_676v_tok_860v_tok_321v_tok_310v_tok_208v_tok_699v_tok_676v_tok_491v_tok_875v_tok_699v_tok_136v_tok_491v_tok_1019v_tok_475v_tok_819v_tok_176v_tok_373v_tok_436v_tok_373v_tok_103v_tok_819v_tok_339v_tok_339v_tok_709v_tok_339v_tok_475v_tok_779v_tok_1017v_tok_835v_tok_475v_tok_835</s>']"
      ]
     },
     "execution_count": 11,
     "metadata": {},
     "output_type": "execute_result"
    }
   ],
   "source": [
    "actor.predict(observation_list[0])"
   ]
  }
 ],
 "metadata": {
  "accelerator": "GPU",
  "colab": {
   "provenance": []
  },
  "kernelspec": {
   "display_name": "Python 3 (ipykernel)",
   "language": "python",
   "name": "python3"
  },
  "language_info": {
   "codemirror_mode": {
    "name": "ipython",
    "version": 3
   },
   "file_extension": ".py",
   "mimetype": "text/x-python",
   "name": "python",
   "nbconvert_exporter": "python",
   "pygments_lexer": "ipython3",
   "version": "3.9.9"
  },
  "vscode": {
   "interpreter": {
    "hash": "2c6c77b12b02a1c2aaa91a9fb9cc35bb3c4bbfb7b716f83ac7b2b57ffb1247cc"
   }
  }
 },
 "nbformat": 4,
 "nbformat_minor": 1
}
